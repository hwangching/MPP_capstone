{
 "cells": [
  {
   "cell_type": "code",
   "execution_count": 20,
   "metadata": {},
   "outputs": [],
   "source": [
    "import pandas as pd\n",
    "import numpy as np\n",
    "import matplotlib.pyplot as plt\n",
    "import os\n",
    "import seaborn as sns\n",
    "from sklearn.neighbors import KNeighborsRegressor\n",
    "from sklearn.linear_model import LogisticRegression\n",
    "from sklearn import metrics\n",
    "from sklearn.metrics import roc_auc_score\n",
    "import warnings\n",
    "from sklearn.model_selection import train_test_split\n",
    "from sklearn.model_selection import KFold\n",
    "from sklearn.ensemble import RandomForestClassifier\n",
    "from sklearn.neighbors import KNeighborsClassifier\n",
    "from sklearn.tree import DecisionTreeClassifier\n",
    "from sklearn.ensemble import GradientBoostingClassifier\n",
    "from xgboost import XGBClassifier\n",
    "\n",
    "\n",
    "warnings.filterwarnings(\"ignore\")\n",
    "\n",
    "os.environ['KMP_DUPLICATE_LIB_OK']='True'"
   ]
  },
  {
   "cell_type": "code",
   "execution_count": 2,
   "metadata": {},
   "outputs": [],
   "source": [
    "train_data = pd.read_csv(\"train_kf.csv\")\n",
    "test_data = pd.read_csv(\"test_kf.csv\")\n"
   ]
  },
  {
   "cell_type": "code",
   "execution_count": 3,
   "metadata": {},
   "outputs": [
    {
     "data": {
      "text/html": [
       "<div>\n",
       "<style scoped>\n",
       "    .dataframe tbody tr th:only-of-type {\n",
       "        vertical-align: middle;\n",
       "    }\n",
       "\n",
       "    .dataframe tbody tr th {\n",
       "        vertical-align: top;\n",
       "    }\n",
       "\n",
       "    .dataframe thead th {\n",
       "        text-align: right;\n",
       "    }\n",
       "</style>\n",
       "<table border=\"1\" class=\"dataframe\">\n",
       "  <thead>\n",
       "    <tr style=\"text-align: right;\">\n",
       "      <th></th>\n",
       "      <th>row_id</th>\n",
       "      <th>property_type</th>\n",
       "      <th>loan_purpose</th>\n",
       "      <th>occupancy</th>\n",
       "      <th>preapproval</th>\n",
       "      <th>applicant_ethnicity</th>\n",
       "      <th>applicant_race</th>\n",
       "      <th>applicant_sex</th>\n",
       "      <th>co_applicant</th>\n",
       "      <th>loan_amount</th>\n",
       "      <th>...</th>\n",
       "      <th>minority_population_pct</th>\n",
       "      <th>ffiecmedian_family_income</th>\n",
       "      <th>tract_to_msa_md_income_pct</th>\n",
       "      <th>number_of_owner-occupied_units</th>\n",
       "      <th>number_of_1_to_4_family_units</th>\n",
       "      <th>msa_accept_prob</th>\n",
       "      <th>state_accept_prob</th>\n",
       "      <th>lender_accept_prob</th>\n",
       "      <th>minority</th>\n",
       "      <th>tract_family_income</th>\n",
       "    </tr>\n",
       "  </thead>\n",
       "  <tbody>\n",
       "    <tr>\n",
       "      <th>0</th>\n",
       "      <td>0</td>\n",
       "      <td>1</td>\n",
       "      <td>1</td>\n",
       "      <td>1</td>\n",
       "      <td>3</td>\n",
       "      <td>2</td>\n",
       "      <td>5</td>\n",
       "      <td>1</td>\n",
       "      <td>0</td>\n",
       "      <td>70.0</td>\n",
       "      <td>...</td>\n",
       "      <td>44.230</td>\n",
       "      <td>60588.0</td>\n",
       "      <td>50.933</td>\n",
       "      <td>716.0</td>\n",
       "      <td>2642.0</td>\n",
       "      <td>0.51</td>\n",
       "      <td>0.54</td>\n",
       "      <td>0.84</td>\n",
       "      <td>2743.587</td>\n",
       "      <td>30859.286</td>\n",
       "    </tr>\n",
       "    <tr>\n",
       "      <th>1</th>\n",
       "      <td>1</td>\n",
       "      <td>1</td>\n",
       "      <td>3</td>\n",
       "      <td>1</td>\n",
       "      <td>3</td>\n",
       "      <td>1</td>\n",
       "      <td>5</td>\n",
       "      <td>1</td>\n",
       "      <td>0</td>\n",
       "      <td>178.0</td>\n",
       "      <td>...</td>\n",
       "      <td>15.905</td>\n",
       "      <td>54821.0</td>\n",
       "      <td>100.000</td>\n",
       "      <td>1622.0</td>\n",
       "      <td>2108.0</td>\n",
       "      <td>0.54</td>\n",
       "      <td>0.58</td>\n",
       "      <td>0.17</td>\n",
       "      <td>918.355</td>\n",
       "      <td>54821.000</td>\n",
       "    </tr>\n",
       "    <tr>\n",
       "      <th>2</th>\n",
       "      <td>2</td>\n",
       "      <td>1</td>\n",
       "      <td>3</td>\n",
       "      <td>1</td>\n",
       "      <td>3</td>\n",
       "      <td>2</td>\n",
       "      <td>5</td>\n",
       "      <td>1</td>\n",
       "      <td>0</td>\n",
       "      <td>163.0</td>\n",
       "      <td>...</td>\n",
       "      <td>61.270</td>\n",
       "      <td>67719.0</td>\n",
       "      <td>100.000</td>\n",
       "      <td>760.0</td>\n",
       "      <td>1048.0</td>\n",
       "      <td>0.51</td>\n",
       "      <td>0.50</td>\n",
       "      <td>0.49</td>\n",
       "      <td>3733.794</td>\n",
       "      <td>67719.000</td>\n",
       "    </tr>\n",
       "    <tr>\n",
       "      <th>3</th>\n",
       "      <td>3</td>\n",
       "      <td>1</td>\n",
       "      <td>1</td>\n",
       "      <td>1</td>\n",
       "      <td>1</td>\n",
       "      <td>2</td>\n",
       "      <td>5</td>\n",
       "      <td>1</td>\n",
       "      <td>1</td>\n",
       "      <td>155.0</td>\n",
       "      <td>...</td>\n",
       "      <td>6.246</td>\n",
       "      <td>78439.0</td>\n",
       "      <td>100.000</td>\n",
       "      <td>2025.0</td>\n",
       "      <td>2299.0</td>\n",
       "      <td>0.54</td>\n",
       "      <td>0.55</td>\n",
       "      <td>0.69</td>\n",
       "      <td>416.421</td>\n",
       "      <td>78439.000</td>\n",
       "    </tr>\n",
       "    <tr>\n",
       "      <th>4</th>\n",
       "      <td>4</td>\n",
       "      <td>1</td>\n",
       "      <td>1</td>\n",
       "      <td>1</td>\n",
       "      <td>3</td>\n",
       "      <td>2</td>\n",
       "      <td>3</td>\n",
       "      <td>2</td>\n",
       "      <td>0</td>\n",
       "      <td>305.0</td>\n",
       "      <td>...</td>\n",
       "      <td>100.000</td>\n",
       "      <td>63075.0</td>\n",
       "      <td>82.200</td>\n",
       "      <td>1464.0</td>\n",
       "      <td>1847.0</td>\n",
       "      <td>0.52</td>\n",
       "      <td>0.54</td>\n",
       "      <td>0.54</td>\n",
       "      <td>6732.000</td>\n",
       "      <td>51847.650</td>\n",
       "    </tr>\n",
       "  </tbody>\n",
       "</table>\n",
       "<p>5 rows × 22 columns</p>\n",
       "</div>"
      ],
      "text/plain": [
       "   row_id  property_type  loan_purpose  occupancy  preapproval  \\\n",
       "0       0              1             1          1            3   \n",
       "1       1              1             3          1            3   \n",
       "2       2              1             3          1            3   \n",
       "3       3              1             1          1            1   \n",
       "4       4              1             1          1            3   \n",
       "\n",
       "   applicant_ethnicity  applicant_race  applicant_sex  co_applicant  \\\n",
       "0                    2               5              1             0   \n",
       "1                    1               5              1             0   \n",
       "2                    2               5              1             0   \n",
       "3                    2               5              1             1   \n",
       "4                    2               3              2             0   \n",
       "\n",
       "   loan_amount  ...  minority_population_pct  ffiecmedian_family_income  \\\n",
       "0         70.0  ...                   44.230                    60588.0   \n",
       "1        178.0  ...                   15.905                    54821.0   \n",
       "2        163.0  ...                   61.270                    67719.0   \n",
       "3        155.0  ...                    6.246                    78439.0   \n",
       "4        305.0  ...                  100.000                    63075.0   \n",
       "\n",
       "   tract_to_msa_md_income_pct  number_of_owner-occupied_units  \\\n",
       "0                      50.933                           716.0   \n",
       "1                     100.000                          1622.0   \n",
       "2                     100.000                           760.0   \n",
       "3                     100.000                          2025.0   \n",
       "4                      82.200                          1464.0   \n",
       "\n",
       "   number_of_1_to_4_family_units  msa_accept_prob  state_accept_prob  \\\n",
       "0                         2642.0             0.51               0.54   \n",
       "1                         2108.0             0.54               0.58   \n",
       "2                         1048.0             0.51               0.50   \n",
       "3                         2299.0             0.54               0.55   \n",
       "4                         1847.0             0.52               0.54   \n",
       "\n",
       "   lender_accept_prob  minority  tract_family_income  \n",
       "0                0.84  2743.587            30859.286  \n",
       "1                0.17   918.355            54821.000  \n",
       "2                0.49  3733.794            67719.000  \n",
       "3                0.69   416.421            78439.000  \n",
       "4                0.54  6732.000            51847.650  \n",
       "\n",
       "[5 rows x 22 columns]"
      ]
     },
     "execution_count": 3,
     "metadata": {},
     "output_type": "execute_result"
    }
   ],
   "source": [
    "train_data=train_data.sort_values(by=['row_id']).reset_index(drop=True)\n",
    "test_data=test_data.sort_values(by=['row_id']).reset_index(drop=True)\n",
    "\n",
    "train_data.head()"
   ]
  },
  {
   "cell_type": "markdown",
   "metadata": {},
   "source": [
    "### 填補遺漏值\n",
    "* 使用KNN填補遺漏值"
   ]
  },
  {
   "cell_type": "code",
   "execution_count": 4,
   "metadata": {},
   "outputs": [],
   "source": [
    "withoutNaN=['property_type','loan_purpose','occupancy','preapproval','applicant_ethnicity','applicant_sex','co_applicant','loan_amount','msa_accept_prob','state_accept_prob','lender_accept_prob']\n",
    "#deal with applicant_income\n",
    "def NaNwithKNN(data,col):\n",
    "    data_withNaN=data[data[col].isnull()==True]\n",
    "    data_withoutNaN=data[data[col].isnull()==False]\n",
    "    model =KNeighborsRegressor()\n",
    "    model.fit(data_withoutNaN[withoutNaN],data_withoutNaN[col])\n",
    "    predict=model.predict(data_withNaN[withoutNaN])\n",
    "    data_withNaN[col]=predict\n",
    "    new_data=pd.concat([data_withNaN, data_withoutNaN])\n",
    "    new_data=new_data.sort_values(by=['row_id']).reset_index(drop=True)\n",
    "\n",
    "    return new_data\n"
   ]
  },
  {
   "cell_type": "code",
   "execution_count": 5,
   "metadata": {},
   "outputs": [],
   "source": [
    "columns=['applicant_income','population','minority_population_pct','ffiecmedian_family_income','tract_to_msa_md_income_pct','number_of_owner-occupied_units','number_of_1_to_4_family_units']\n",
    "for col in columns:\n",
    "    train_data=NaNwithKNN(train_data,col)\n",
    "    test_data=NaNwithKNN(test_data,col)\n"
   ]
  },
  {
   "cell_type": "code",
   "execution_count": 6,
   "metadata": {},
   "outputs": [],
   "source": [
    "train_data['minority']=train_data['minority_population_pct']/100*train_data['population']\n",
    "test_data['minority']=test_data['minority_population_pct']/100*test_data['population']\n",
    "train_data['tract_family_income']=train_data['tract_to_msa_md_income_pct']/100*train_data['ffiecmedian_family_income']\n",
    "test_data['tract_family_income']=test_data['tract_to_msa_md_income_pct']/100*test_data['ffiecmedian_family_income']"
   ]
  },
  {
   "cell_type": "markdown",
   "metadata": {},
   "source": [
    "### 檢查是否還有遺失值"
   ]
  },
  {
   "cell_type": "code",
   "execution_count": 7,
   "metadata": {},
   "outputs": [
    {
     "data": {
      "image/png": "[encoded data removed]",
      "text/plain": [
       "<Figure size 432x288 with 2 Axes>"
      ]
     },
     "metadata": {
      "needs_background": "light"
     },
     "output_type": "display_data"
    }
   ],
   "source": [
    "cmap=sns.light_palette(\"navy\", reverse=False)\n",
    "sns.heatmap(train_data.isnull().astype(np.int8),yticklabels=False,cmap=cmap)\n",
    "plt.show()"
   ]
  },
  {
   "cell_type": "code",
   "execution_count": 8,
   "metadata": {},
   "outputs": [
    {
     "data": {
      "image/png": "[encoded data removed]",
      "text/plain": [
       "<Figure size 432x288 with 2 Axes>"
      ]
     },
     "metadata": {
      "needs_background": "light"
     },
     "output_type": "display_data"
    }
   ],
   "source": [
    "cmap=sns.light_palette(\"navy\", reverse=False)\n",
    "sns.heatmap(test_data.isnull().astype(np.int8),yticklabels=False,cmap=cmap)\n",
    "plt.show()"
   ]
  },
  {
   "cell_type": "markdown",
   "metadata": {},
   "source": [
    "### 將有outlier之變數轉為log"
   ]
  },
  {
   "cell_type": "code",
   "execution_count": 9,
   "metadata": {},
   "outputs": [],
   "source": [
    "# do log transformation\n",
    "columns=['loan_amount','applicant_income','population','minority','tract_family_income','number_of_owner-occupied_units','number_of_1_to_4_family_units']\n",
    "for col in columns:\n",
    "    train_data[col] = np.log(train_data[col])\n",
    "    test_data[col] = np.log(test_data[col])\n"
   ]
  },
  {
   "cell_type": "markdown",
   "metadata": {},
   "source": [
    "### 建立預測模型"
   ]
  },
  {
   "cell_type": "code",
   "execution_count": 10,
   "metadata": {},
   "outputs": [],
   "source": [
    "train_labels=pd.read_csv(\"train_labels.csv\")"
   ]
  },
  {
   "cell_type": "code",
   "execution_count": 11,
   "metadata": {},
   "outputs": [
    {
     "data": {
      "text/plain": [
       "Index(['row_id', 'property_type', 'loan_purpose', 'occupancy', 'preapproval',\n",
       "       'applicant_ethnicity', 'applicant_race', 'applicant_sex',\n",
       "       'co_applicant', 'loan_amount', 'applicant_income', 'population',\n",
       "       'minority_population_pct', 'ffiecmedian_family_income',\n",
       "       'tract_to_msa_md_income_pct', 'number_of_owner-occupied_units',\n",
       "       'number_of_1_to_4_family_units', 'msa_accept_prob', 'state_accept_prob',\n",
       "       'lender_accept_prob', 'minority', 'tract_family_income'],\n",
       "      dtype='object')"
      ]
     },
     "execution_count": 11,
     "metadata": {},
     "output_type": "execute_result"
    }
   ],
   "source": [
    "train_data.columns"
   ]
  },
  {
   "cell_type": "markdown",
   "metadata": {},
   "source": [
    "### 使用單一模型"
   ]
  },
  {
   "cell_type": "code",
   "execution_count": 12,
   "metadata": {},
   "outputs": [],
   "source": [
    "def classificationori_model(test_data,model,data, outcome,test_size):\n",
    "  #Fit the model:\n",
    "    print(\"test size:\",test_size)\n",
    "    labels=outcome\n",
    "    X_train, X_test, y_train, y_test = train_test_split(data, labels,test_size=test_size)\n",
    "    model.fit(X_train,y_train)\n",
    "   \n",
    "   #Make predictions on training set:\n",
    "    predictions = model.predict(X_test)\n",
    "    accuracy = metrics.accuracy_score(predictions,y_test)\n",
    "    print (\"Accuracy : \" + str(accuracy))\n",
    "    probabilities = model.predict_proba(X_test)\n",
    "    #plot_auc(y_test, probabilities)\n",
    "    kf = KFold(n_splits=5)\n",
    "    error = []\n",
    "    for train_index, test_index in kf.split(data):\n",
    "    # Filter training data\n",
    "        train_predictors = (data.iloc[train_index,:])\n",
    "    \n",
    "    # The target we're using to train the algorithm.\n",
    "        train_target = labels.iloc[train_index]\n",
    "    \n",
    "    # Training the algorithm using the predictors and target.\n",
    "        model.fit(train_predictors, train_target)\n",
    "    \n",
    "    #Record error from each cross-validation run\n",
    "        error.append(model.score(data.iloc[test_index,:], labels.iloc[test_index]))\n",
    "     \n",
    "    print (\"Cross-Validation Score :\" + str((np.mean(error))))\n",
    "    "
   ]
  },
  {
   "cell_type": "code",
   "execution_count": 13,
   "metadata": {},
   "outputs": [
    {
     "name": "stdout",
     "output_type": "stream",
     "text": [
      "test size: 0.25\n",
      "Accuracy : 0.51\n",
      "Cross-Validation Score :0.507378\n"
     ]
    }
   ],
   "source": [
    "train_data_=train_data\n",
    "test_data_=test_data\n",
    "outcome=train_labels['accepted']\n",
    "model =LogisticRegression(random_state=0, solver='lbfgs',multi_class='ovr')\n",
    "#M1train_predict_list,M1test_predict_list=\n",
    "classificationori_model(test_data_,model,train_data_,outcome,.25)"
   ]
  },
  {
   "cell_type": "code",
   "execution_count": 14,
   "metadata": {},
   "outputs": [
    {
     "name": "stdout",
     "output_type": "stream",
     "text": [
      "test size: 0.25\n",
      "Accuracy : 0.704968\n",
      "Cross-Validation Score :0.698196\n"
     ]
    }
   ],
   "source": [
    "model =RandomForestClassifier(n_estimators=20)   \n",
    "classificationori_model(test_data_,model,train_data_,outcome,.25)"
   ]
  },
  {
   "cell_type": "code",
   "execution_count": 15,
   "metadata": {},
   "outputs": [
    {
     "name": "stdout",
     "output_type": "stream",
     "text": [
      "test size: 0.25\n",
      "Accuracy : 0.636896\n",
      "Cross-Validation Score :0.6227940000000001\n"
     ]
    }
   ],
   "source": [
    "model = DecisionTreeClassifier()    \n",
    "classificationori_model(test_data_,model,train_data_,outcome,.25)"
   ]
  },
  {
   "cell_type": "code",
   "execution_count": 18,
   "metadata": {},
   "outputs": [
    {
     "name": "stdout",
     "output_type": "stream",
     "text": [
      "test size: 0.25\n",
      "Accuracy : 0.715728\n",
      "Cross-Validation Score :0.71615\n"
     ]
    }
   ],
   "source": [
    "model=GradientBoostingClassifier(n_estimators=100, learning_rate=1, max_depth=1, random_state=0)\n",
    "classificationori_model(test_data_,model,train_data_,outcome,.25)\n"
   ]
  },
  {
   "cell_type": "code",
   "execution_count": 21,
   "metadata": {},
   "outputs": [
    {
     "name": "stdout",
     "output_type": "stream",
     "text": [
      "test size: 0.25\n",
      "Accuracy : 0.724112\n",
      "Cross-Validation Score :0.723748\n"
     ]
    }
   ],
   "source": [
    "model=XGBClassifier(max_depth=5,n_estimators=100)  \n",
    "classificationori_model(test_data_,model,train_data_,outcome,.25)\n"
   ]
  },
  {
   "cell_type": "markdown",
   "metadata": {},
   "source": [
    "### model ensemble "
   ]
  },
  {
   "cell_type": "code",
   "execution_count": 23,
   "metadata": {},
   "outputs": [
    {
     "name": "stdout",
     "output_type": "stream",
     "text": [
      "task:         [classification]\n",
      "n_classes:    [2]\n",
      "metric:       [accuracy_score]\n",
      "mode:         [oof_pred_bag]\n",
      "n_models:     [3]\n",
      "\n",
      "model  0:     [DecisionTreeClassifier]\n",
      "    fold  0:  [0.63727490]\n",
      "    fold  1:  [0.63617891]\n",
      "    fold  2:  [0.63719710]\n",
      "    fold  3:  [0.63852511]\n",
      "    ----\n",
      "    MEAN:     [0.63729400] + [0.00083199]\n",
      "    FULL:     [0.63729400]\n",
      "\n",
      "model  1:     [RandomForestClassifier]\n",
      "    fold  0:  [0.70666635]\n",
      "    fold  1:  [0.70767434]\n",
      "    fold  2:  [0.70891767]\n",
      "    fold  3:  [0.70468564]\n",
      "    ----\n",
      "    MEAN:     [0.70698600] + [0.00154911]\n",
      "    FULL:     [0.70698600]\n",
      "\n",
      "model  2:     [XGBClassifier]\n",
      "    fold  0:  [0.71874625]\n",
      "    fold  1:  [0.71905025]\n",
      "    fold  2:  [0.72023776]\n",
      "    fold  3:  [0.71794174]\n",
      "    ----\n",
      "    MEAN:     [0.71899400] + [0.00082443]\n",
      "    FULL:     [0.71899400]\n",
      "\n"
     ]
    }
   ],
   "source": [
    "from sklearn.metrics import mean_absolute_error\n",
    "from sklearn.ensemble import ExtraTreesClassifier\n",
    "from sklearn.ensemble import RandomForestClassifier\n",
    "from sklearn.pipeline import Pipeline\n",
    "from sklearn.externals import joblib\n",
    "from xgboost import XGBClassifier\n",
    "from vecstack import stacking\n",
    "from sklearn.metrics import accuracy_score \n",
    "from sklearn.neighbors import KNeighborsClassifier \n",
    "\n",
    "#KNeighborsClassifier(n_neighbors=5), \n",
    "#RandomForestClassifier(random_state=0, n_estimators=100, max_depth=3),     accuacy=0.71953000\n",
    "#XGBClassifier(random_state=0, learning_rate=0.1, n_estimators=100, max_depth=3)  score:0.7134\n",
    "outcome=train_labels['accepted']\n",
    "train_data_stacking=train_data.values\n",
    "test_data_stacking=test_data.values\n",
    "X_train, X_test, y_train, y_test = train_test_split(train_data, outcome, test_size=0.2, random_state=0)\n",
    "models = [ DecisionTreeClassifier(), \n",
    "          RandomForestClassifier(random_state=0, n_estimators=100, max_depth=3), \n",
    "          XGBClassifier(random_state=0, learning_rate=0.1, n_estimators=100, max_depth=3) ]\n",
    "\n",
    "\n",
    "S_train, S_test = stacking(models, \n",
    " train_data_stacking,outcome,test_data_stacking, \n",
    " regression=False, \n",
    " \n",
    " mode='oof_pred_bag', \n",
    " \n",
    " needs_proba=False,\n",
    " \n",
    " save_dir=None, \n",
    " \n",
    " metric=accuracy_score, \n",
    " \n",
    " n_folds=4, \n",
    " \n",
    " stratified=True,\n",
    " \n",
    " shuffle=True, \n",
    " \n",
    " random_state=0, \n",
    " \n",
    " verbose=2)\n",
    "\n",
    "model = XGBClassifier(random_state=0, learning_rate=0.1, n_estimators=100, max_depth=3) \n",
    "model = model.fit(S_train, outcome) \n"
   ]
  },
  {
   "cell_type": "code",
   "execution_count": null,
   "metadata": {},
   "outputs": [],
   "source": []
  }
 ],
 "metadata": {
  "kernelspec": {
   "display_name": "Python 3",
   "language": "python",
   "name": "python3"
  },
  "language_info": {
   "codemirror_mode": {
    "name": "ipython",
    "version": 3
   },
   "file_extension": ".py",
   "mimetype": "text/x-python",
   "name": "python",
   "nbconvert_exporter": "python",
   "pygments_lexer": "ipython3",
   "version": "3.6.8"
  }
 },
 "nbformat": 4,
 "nbformat_minor": 2
}
