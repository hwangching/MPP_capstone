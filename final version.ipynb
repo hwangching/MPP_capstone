{
 "cells": [
  {
   "cell_type": "code",
   "execution_count": 1,
   "metadata": {},
   "outputs": [],
   "source": [
    "from sklearn.linear_model import LogisticRegression\n",
    "from sklearn.model_selection import KFold   #For K-fold cross validation\n",
    "from sklearn.ensemble import RandomForestClassifier\n",
    "from sklearn.tree import DecisionTreeClassifier, export_graphviz\n",
    "from sklearn import metrics\n",
    "from sklearn.model_selection import train_test_split\n",
    "from sklearn.svm import LinearSVC\n",
    "from sklearn.ensemble import GradientBoostingClassifier\n",
    "from sklearn.metrics import roc_auc_score\n",
    "import xgboost as xgb\n",
    "from sklearn.neighbors import KNeighborsRegressor\n",
    "\n",
    "import pandas as pd\n",
    "from sklearn import preprocessing\n",
    "import sklearn.model_selection as ms\n",
    "from sklearn import linear_model\n",
    "import sklearn.metrics as sklm\n",
    "import numpy as np\n",
    "import numpy.random as nr\n",
    "import matplotlib.pyplot as plt\n",
    "import seaborn as sns\n",
    "import scipy.stats as ss\n",
    "from sklearn.preprocessing import Imputer\n",
    "from sklearn.linear_model import LogisticRegressionCV\n",
    "from sklearn.feature_selection import RFE, RFECV\n",
    "from sklearn.svm import LinearSVC\n",
    "from  sklearn import model_selection\n",
    "import os\n",
    "os.environ['KMP_DUPLICATE_LIB_OK']='True'\n",
    "import sklearn.metrics as sklm\n",
    "import warnings\n",
    "warnings.filterwarnings('ignore')\n",
    "import sys"
   ]
  },
  {
   "cell_type": "code",
   "execution_count": 2,
   "metadata": {
    "scrolled": true
   },
   "outputs": [],
   "source": [
    "train_data = pd.read_csv(\"train_values.csv\")\n",
    "test_data = pd.read_csv(\"test_values.csv\")\n",
    "\n",
    "total_columns=['row_id', 'loan_type', 'property_type', 'loan_purpose', 'occupancy',\n",
    "       'loan_amount', 'preapproval', 'msa_md', 'state_code', 'county_code',\n",
    "       'applicant_ethnicity', 'applicant_race', 'applicant_sex',\n",
    "       'applicant_income', 'population', 'minority_population_pct',\n",
    "       'ffiecmedian_family_income', 'tract_to_msa_md_income_pct',\n",
    "       'number_of_owner-occupied_units', 'number_of_1_to_4_family_units',\n",
    "       'lender', 'co_applicant']\n",
    "withoutNaN=['loan_type', 'property_type', 'loan_purpose', 'occupancy',\n",
    "       'loan_amount', 'preapproval', 'msa_md', 'state_code', 'county_code',\n",
    "       'applicant_ethnicity', 'applicant_race', 'applicant_sex']\n",
    "\n",
    "train_data['minority_population_pct']=train_data['minority_population_pct']*1000\n",
    "test_data['minority_population_pct']=test_data['minority_population_pct']*1000\n",
    "train_data['tract_to_msa_md_income_pct']=train_data['tract_to_msa_md_income_pct']*1000\n",
    "test_data['tract_to_msa_md_income_pct']=test_data['tract_to_msa_md_income_pct']*1000\n",
    "\n",
    "def NaNwithKNN(train_data,test_data,col):\n",
    "#applicant_income\\population\\minority_population_pct\\ffiecmedian_family_income\\tract_to_msa_md_income_pct\n",
    "#\\number_of_owner-occupied_units\\number_of_1_to_4_family_units\n",
    "#分為有Null and not Null\n",
    "    train_appincome_all=train_data[train_data[col].isnull()==False]\n",
    "    predict_appincome=train_data[train_data[col].isnull()==True]\n",
    "    train_appincome=train_appincome_all[withoutNaN]\n",
    "    model =KNeighborsRegressor()\n",
    "    model.fit(train_appincome,train_appincome_all[col])\n",
    "    predict=model.predict(predict_appincome[withoutNaN])\n",
    "    predict_appincome[col]=predict\n",
    "    new_train_data=pd.concat([predict_appincome, train_appincome_all])\n",
    "    train_data=new_train_data.sort_values(by=['row_id'])\n",
    "    \n",
    "    test_appincome_all=test_data[test_data[col].isnull()==False]\n",
    "    predict_test=test_data[test_data[col].isnull()==True]\n",
    "    test_appincome=test_appincome_all[withoutNaN]\n",
    "    model =KNeighborsRegressor()\n",
    "    model.fit(test_appincome,test_appincome_all[col])\n",
    "    predict=model.predict(predict_test[withoutNaN])\n",
    "    predict_test[col]=predict\n",
    "    new_test_data=pd.concat([predict_test, test_appincome_all])\n",
    "    test_data=new_test_data.sort_values(by=['row_id'])\n",
    "    return(train_data,test_data)\n",
    "\n",
    "\n",
    "\n",
    "#applicant_income\\population\\minority_population_pct\\ffiecmedian_family_income\\tract_to_msa_md_income_pct\n",
    "#\\number_of_owner-occupied_units\\number_of_1_to_4_family_units\n",
    "cols=[]\n",
    "train_data,test_data=NaNwithKNN(train_data,test_data,'applicant_income')\n",
    "train_data,test_data=NaNwithKNN(train_data,test_data,'population')\n",
    "train_data,test_data=NaNwithKNN(train_data,test_data,'ffiecmedian_family_income')\n",
    "train_data,test_data=NaNwithKNN(train_data,test_data,'number_of_owner-occupied_units')\n",
    "train_data,test_data=NaNwithKNN(train_data,test_data,'number_of_1_to_4_family_units')\n",
    "\n",
    "\n",
    "#先乘1000換完在除回來\n",
    "\n",
    "def NaNwithKNNpct(train_data,test_data,col):\n",
    "#applicant_income\\population\\minority_population_pct\\ffiecmedian_family_income\\tract_to_msa_md_income_pct\n",
    "#\\number_of_owner-occupied_units\\number_of_1_to_4_family_units\n",
    "#分為有Null and not Null\n",
    "    train_appincome_all=train_data[train_data[col].isnull()==False]\n",
    "    train_appincome_all[col]=train_appincome_all[col].astype(int)\n",
    "    predict_appincome=train_data[train_data[col].isnull()==True]\n",
    "    train_appincome=train_appincome_all[withoutNaN]\n",
    "    model =KNeighborsRegressor()\n",
    "    model.fit(train_appincome,train_appincome_all[col])\n",
    "    predict=model.predict(predict_appincome[withoutNaN])\n",
    "    predict_appincome[col]=predict\n",
    "    new_train_data=pd.concat([predict_appincome, train_appincome_all])\n",
    "    train_data=new_train_data.sort_values(by=['row_id'])\n",
    "    \n",
    "    test_appincome_all=test_data[test_data[col].isnull()==False]\n",
    "    test_appincome_all[col]=test_appincome_all[col].astype(int)\n",
    "    predict_test=test_data[test_data[col].isnull()==True]\n",
    "    test_appincome=test_appincome_all[withoutNaN]\n",
    "    model =KNeighborsRegressor()\n",
    "    model.fit(test_appincome,test_appincome_all[col])\n",
    "    predict=model.predict(predict_test[withoutNaN])\n",
    "    predict_test[col]=predict\n",
    "    new_test_data=pd.concat([predict_test, test_appincome_all])\n",
    "    test_data=new_test_data.sort_values(by=['row_id'])\n",
    "    return(train_data,test_data)\n",
    "\n",
    "\n",
    "train_data,test_data=NaNwithKNNpct(train_data,test_data,'minority_population_pct')\n",
    "train_data,test_data=NaNwithKNNpct(train_data,test_data,'tract_to_msa_md_income_pct')\n",
    "\n",
    "train_data['minority_population_pct']=train_data['minority_population_pct']/1000\n",
    "test_data['minority_population_pct']=test_data['minority_population_pct']/1000\n",
    "train_data['tract_to_msa_md_income_pct']=train_data['tract_to_msa_md_income_pct']/1000\n",
    "test_data['tract_to_msa_md_income_pct']=test_data['tract_to_msa_md_income_pct']/1000"
   ]
  },
  {
   "cell_type": "markdown",
   "metadata": {},
   "source": [
    "特徵工程"
   ]
  },
  {
   "cell_type": "code",
   "execution_count": 3,
   "metadata": {},
   "outputs": [],
   "source": [
    "train_labels=pd.read_csv(\"train_labels.csv\")\n",
    "train_data=train_data.join(train_labels.set_index(\"row_id\"),on=\"row_id\")\n",
    "\n",
    "msa_md = pd.crosstab(index=train_data[\"msa_md\"], columns=train_data[\"accepted\"])\n",
    "state_code = pd.crosstab(index=train_data[\"state_code\"], columns=train_data[\"accepted\"])\n",
    "lender = pd.crosstab(index=train_data[\"lender\"], columns=train_data[\"accepted\"])\n",
    "county_code = pd.crosstab(index=train_data[\"county_code\"],columns=train_data[\"accepted\"])\n",
    "\n",
    "msa_md_accept_rate=round(msa_md[1]/(msa_md[1]+msa_md[0]),2)\n",
    "state_accept_rate=round(state_code[1]/(state_code[1]+state_code[0]),2)\n",
    "lender_accept_rate=round(lender[1]/(lender[1]+lender[0]),2)\n",
    "county_accept_rate=round((county_code[1]/(county_code[1]+county_code[0])),2)\n",
    "\n",
    "lender_accept_rate = pd.DataFrame({'lender':lender_accept_rate.index, 'lender_accept_prob':lender_accept_rate.values})\n",
    "msa_md_accept_rate = pd.DataFrame({'msa_md':msa_md_accept_rate.index, 'msa_accept_prob':msa_md_accept_rate.values})\n",
    "state_accept_rate=pd.DataFrame({\"state_code\":state_accept_rate.index, 'state_accept_prob':state_accept_rate.values})\n",
    "county_accept_rate=pd.DataFrame({\"county_code\":county_accept_rate.index, 'county_accept_prob':county_accept_rate.values})\n",
    "\n",
    "train_data=pd.merge(train_data,county_accept_rate,how='left',on=\"county_code\")\n",
    "train_data=pd.merge(train_data,msa_md_accept_rate,on=\"msa_md\")\n",
    "train_data=pd.merge(train_data,state_accept_rate,on=\"state_code\")\n",
    "train_data=pd.merge(train_data,lender_accept_rate,on=\"lender\")\n",
    "\n",
    "test_data=pd.merge(test_data,county_accept_rate,how='left',on=\"county_code\")\n",
    "test_data=pd.merge(test_data,msa_md_accept_rate,how='left',on=\"msa_md\")\n",
    "test_data=pd.merge(test_data,state_accept_rate,how='left',on=\"state_code\")\n",
    "test_data=pd.merge(test_data,lender_accept_rate,how='left',on=\"lender\")\n",
    "\n",
    "#accept_rate=accept/accept+unaccpt\n",
    "\n",
    "\n",
    "\n",
    "\n",
    "\n",
    "train_data['minority']=train_data['minority_population_pct']/100*train_data['population']\n",
    "test_data['minority']=test_data['minority_population_pct']/100*test_data['population']\n",
    "train_data['tract_family_income']=train_data['tract_to_msa_md_income_pct']/100*train_data['ffiecmedian_family_income']\n",
    "test_data['tract_family_income']=test_data['tract_to_msa_md_income_pct']/100*test_data['ffiecmedian_family_income']\n",
    "\n",
    "train_data=train_data.sort_values(by=['row_id'])\n",
    "test_data=test_data.sort_values(by=['row_id'])"
   ]
  },
  {
   "cell_type": "code",
   "execution_count": 4,
   "metadata": {},
   "outputs": [
    {
     "data": {
      "text/html": [
       "<div>\n",
       "<style scoped>\n",
       "    .dataframe tbody tr th:only-of-type {\n",
       "        vertical-align: middle;\n",
       "    }\n",
       "\n",
       "    .dataframe tbody tr th {\n",
       "        vertical-align: top;\n",
       "    }\n",
       "\n",
       "    .dataframe thead th {\n",
       "        text-align: right;\n",
       "    }\n",
       "</style>\n",
       "<table border=\"1\" class=\"dataframe\">\n",
       "  <thead>\n",
       "    <tr style=\"text-align: right;\">\n",
       "      <th></th>\n",
       "      <th>row_id</th>\n",
       "      <th>loan_type</th>\n",
       "      <th>property_type</th>\n",
       "      <th>loan_purpose</th>\n",
       "      <th>occupancy</th>\n",
       "      <th>loan_amount</th>\n",
       "      <th>preapproval</th>\n",
       "      <th>msa_md</th>\n",
       "      <th>state_code</th>\n",
       "      <th>county_code</th>\n",
       "      <th>...</th>\n",
       "      <th>number_of_1_to_4_family_units</th>\n",
       "      <th>lender</th>\n",
       "      <th>co_applicant</th>\n",
       "      <th>accepted</th>\n",
       "      <th>county_accept_prob</th>\n",
       "      <th>msa_accept_prob</th>\n",
       "      <th>state_accept_prob</th>\n",
       "      <th>lender_accept_prob</th>\n",
       "      <th>minority</th>\n",
       "      <th>tract_family_income</th>\n",
       "    </tr>\n",
       "  </thead>\n",
       "  <tbody>\n",
       "    <tr>\n",
       "      <th>0</th>\n",
       "      <td>0</td>\n",
       "      <td>3</td>\n",
       "      <td>1</td>\n",
       "      <td>1</td>\n",
       "      <td>1</td>\n",
       "      <td>70.0</td>\n",
       "      <td>3</td>\n",
       "      <td>18</td>\n",
       "      <td>37</td>\n",
       "      <td>246</td>\n",
       "      <td>...</td>\n",
       "      <td>2642.0</td>\n",
       "      <td>4536</td>\n",
       "      <td>False</td>\n",
       "      <td>1</td>\n",
       "      <td>0.50</td>\n",
       "      <td>0.51</td>\n",
       "      <td>0.54</td>\n",
       "      <td>0.84</td>\n",
       "      <td>2743.58690</td>\n",
       "      <td>30859.28604</td>\n",
       "    </tr>\n",
       "    <tr>\n",
       "      <th>3387</th>\n",
       "      <td>1</td>\n",
       "      <td>1</td>\n",
       "      <td>1</td>\n",
       "      <td>3</td>\n",
       "      <td>1</td>\n",
       "      <td>178.0</td>\n",
       "      <td>3</td>\n",
       "      <td>369</td>\n",
       "      <td>52</td>\n",
       "      <td>299</td>\n",
       "      <td>...</td>\n",
       "      <td>2108.0</td>\n",
       "      <td>2458</td>\n",
       "      <td>False</td>\n",
       "      <td>0</td>\n",
       "      <td>0.48</td>\n",
       "      <td>0.54</td>\n",
       "      <td>0.58</td>\n",
       "      <td>0.17</td>\n",
       "      <td>918.35470</td>\n",
       "      <td>54821.00000</td>\n",
       "    </tr>\n",
       "    <tr>\n",
       "      <th>79277</th>\n",
       "      <td>2</td>\n",
       "      <td>2</td>\n",
       "      <td>1</td>\n",
       "      <td>3</td>\n",
       "      <td>1</td>\n",
       "      <td>163.0</td>\n",
       "      <td>3</td>\n",
       "      <td>16</td>\n",
       "      <td>10</td>\n",
       "      <td>306</td>\n",
       "      <td>...</td>\n",
       "      <td>1048.0</td>\n",
       "      <td>5710</td>\n",
       "      <td>False</td>\n",
       "      <td>1</td>\n",
       "      <td>0.51</td>\n",
       "      <td>0.51</td>\n",
       "      <td>0.50</td>\n",
       "      <td>0.49</td>\n",
       "      <td>3733.79380</td>\n",
       "      <td>67719.00000</td>\n",
       "    </tr>\n",
       "    <tr>\n",
       "      <th>394178</th>\n",
       "      <td>3</td>\n",
       "      <td>1</td>\n",
       "      <td>1</td>\n",
       "      <td>1</td>\n",
       "      <td>1</td>\n",
       "      <td>155.0</td>\n",
       "      <td>1</td>\n",
       "      <td>305</td>\n",
       "      <td>47</td>\n",
       "      <td>180</td>\n",
       "      <td>...</td>\n",
       "      <td>2299.0</td>\n",
       "      <td>5888</td>\n",
       "      <td>True</td>\n",
       "      <td>1</td>\n",
       "      <td>0.54</td>\n",
       "      <td>0.54</td>\n",
       "      <td>0.55</td>\n",
       "      <td>0.69</td>\n",
       "      <td>416.42082</td>\n",
       "      <td>78439.00000</td>\n",
       "    </tr>\n",
       "    <tr>\n",
       "      <th>187805</th>\n",
       "      <td>4</td>\n",
       "      <td>1</td>\n",
       "      <td>1</td>\n",
       "      <td>1</td>\n",
       "      <td>1</td>\n",
       "      <td>305.0</td>\n",
       "      <td>3</td>\n",
       "      <td>24</td>\n",
       "      <td>37</td>\n",
       "      <td>20</td>\n",
       "      <td>...</td>\n",
       "      <td>1847.0</td>\n",
       "      <td>289</td>\n",
       "      <td>False</td>\n",
       "      <td>1</td>\n",
       "      <td>0.53</td>\n",
       "      <td>0.52</td>\n",
       "      <td>0.54</td>\n",
       "      <td>0.54</td>\n",
       "      <td>6732.00000</td>\n",
       "      <td>51847.65000</td>\n",
       "    </tr>\n",
       "  </tbody>\n",
       "</table>\n",
       "<p>5 rows × 29 columns</p>\n",
       "</div>"
      ],
      "text/plain": [
       "        row_id  loan_type  property_type  loan_purpose  occupancy  \\\n",
       "0            0          3              1             1          1   \n",
       "3387         1          1              1             3          1   \n",
       "79277        2          2              1             3          1   \n",
       "394178       3          1              1             1          1   \n",
       "187805       4          1              1             1          1   \n",
       "\n",
       "        loan_amount  preapproval  msa_md  state_code  county_code  ...  \\\n",
       "0              70.0            3      18          37          246  ...   \n",
       "3387          178.0            3     369          52          299  ...   \n",
       "79277         163.0            3      16          10          306  ...   \n",
       "394178        155.0            1     305          47          180  ...   \n",
       "187805        305.0            3      24          37           20  ...   \n",
       "\n",
       "        number_of_1_to_4_family_units  lender  co_applicant  accepted  \\\n",
       "0                              2642.0    4536         False         1   \n",
       "3387                           2108.0    2458         False         0   \n",
       "79277                          1048.0    5710         False         1   \n",
       "394178                         2299.0    5888          True         1   \n",
       "187805                         1847.0     289         False         1   \n",
       "\n",
       "        county_accept_prob  msa_accept_prob  state_accept_prob  \\\n",
       "0                     0.50             0.51               0.54   \n",
       "3387                  0.48             0.54               0.58   \n",
       "79277                 0.51             0.51               0.50   \n",
       "394178                0.54             0.54               0.55   \n",
       "187805                0.53             0.52               0.54   \n",
       "\n",
       "        lender_accept_prob    minority  tract_family_income  \n",
       "0                     0.84  2743.58690          30859.28604  \n",
       "3387                  0.17   918.35470          54821.00000  \n",
       "79277                 0.49  3733.79380          67719.00000  \n",
       "394178                0.69   416.42082          78439.00000  \n",
       "187805                0.54  6732.00000          51847.65000  \n",
       "\n",
       "[5 rows x 29 columns]"
      ]
     },
     "execution_count": 4,
     "metadata": {},
     "output_type": "execute_result"
    }
   ],
   "source": [
    "train_data.head()"
   ]
  },
  {
   "cell_type": "code",
   "execution_count": null,
   "metadata": {
    "scrolled": true
   },
   "outputs": [
    {
     "name": "stdout",
     "output_type": "stream",
     "text": [
      "loan_amount\n"
     ]
    },
    {
     "data": {
      "image/png": "[encoded data removed]",
      "text/plain": [
       "<Figure size 432x288 with 1 Axes>"
      ]
     },
     "metadata": {
      "needs_background": "light"
     },
     "output_type": "display_data"
    },
    {
     "data": {
      "image/png": "[encoded data removed]",
      "text/plain": [
       "<Figure size 432x288 with 1 Axes>"
      ]
     },
     "metadata": {
      "needs_background": "light"
     },
     "output_type": "display_data"
    },
    {
     "name": "stdout",
     "output_type": "stream",
     "text": [
      "mean: 249.1286053559577 // 194.35273284617784\n",
      "max: 100333.0 // 100878.0\n",
      "min: 1.0 // 1.0\n",
      "median: 184.0 // 141.0\n"
     ]
    },
    {
     "data": {
      "image/png": "[encoded data removed]",
      "text/plain": [
       "<Figure size 432x288 with 1 Axes>"
      ]
     },
     "metadata": {
      "needs_background": "light"
     },
     "output_type": "display_data"
    },
    {
     "name": "stdout",
     "output_type": "stream",
     "text": [
      "applicant_income\n"
     ]
    },
    {
     "data": {
      "image/png": "[encoded data removed]",
      "text/plain": [
       "<Figure size 432x288 with 1 Axes>"
      ]
     },
     "metadata": {
      "needs_background": "light"
     },
     "output_type": "display_data"
    },
    {
     "data": {
      "image/png": "[encoded data removed]",
      "text/plain": [
       "<Figure size 432x288 with 1 Axes>"
      ]
     },
     "metadata": {
      "needs_background": "light"
     },
     "output_type": "display_data"
    },
    {
     "name": "stdout",
     "output_type": "stream",
     "text": [
      "mean: 118.16712139264453 // 92.69396604851754\n",
      "max: 10109.0 // 10139.0\n",
      "min: 1.0 // 1.0\n",
      "median: 84.0 // 66.0\n"
     ]
    },
    {
     "data": {
      "image/png": "[encoded data removed]",
      "text/plain": [
       "<Figure size 432x288 with 1 Axes>"
      ]
     },
     "metadata": {
      "needs_background": "light"
     },
     "output_type": "display_data"
    },
    {
     "name": "stdout",
     "output_type": "stream",
     "text": [
      "population\n"
     ]
    },
    {
     "data": {
      "image/png": "[encoded data removed]",
      "text/plain": [
       "<Figure size 432x288 with 1 Axes>"
      ]
     },
     "metadata": {
      "needs_background": "light"
     },
     "output_type": "display_data"
    },
    {
     "data": {
      "image/png": "[encoded data removed]",
      "text/plain": [
       "<Figure size 432x288 with 1 Axes>"
      ]
     },
     "metadata": {
      "needs_background": "light"
     },
     "output_type": "display_data"
    },
    {
     "name": "stdout",
     "output_type": "stream",
     "text": [
      "mean: 5463.163683760205 // 5280.97620835103\n",
      "max: 34176.0 // 37097.0\n",
      "min: 16.0 // 14.0\n",
      "median: 5006.0 // 4826.0\n"
     ]
    },
    {
     "data": {
      "image/png": "[encoded data removed]",
      "text/plain": [
       "<Figure size 432x288 with 1 Axes>"
      ]
     },
     "metadata": {
      "needs_background": "light"
     },
     "output_type": "display_data"
    },
    {
     "name": "stdout",
     "output_type": "stream",
     "text": [
      "minority\n"
     ]
    },
    {
     "data": {
      "image/png": "[encoded data removed]",
      "text/plain": [
       "<Figure size 432x288 with 1 Axes>"
      ]
     },
     "metadata": {
      "needs_background": "light"
     },
     "output_type": "display_data"
    },
    {
     "data": {
      "image/png": "[encoded data removed]",
      "text/plain": [
       "<Figure size 432x288 with 1 Axes>"
      ]
     },
     "metadata": {
      "needs_background": "light"
     },
     "output_type": "display_data"
    },
    {
     "name": "stdout",
     "output_type": "stream",
     "text": [
      "mean: 1663.2564837686486 // 1804.930924372189\n",
      "max: 24887.938879999998 // 25349.49978\n",
      "min: 1.0243799999999998 // 2.9259199999999996\n",
      "median: 1058.4981400000001 // 1133.3474999999999\n"
     ]
    },
    {
     "data": {
      "image/png": "[encoded data removed]",
      "text/plain": [
       "<Figure size 432x288 with 1 Axes>"
      ]
     },
     "metadata": {
      "needs_background": "light"
     },
     "output_type": "display_data"
    },
    {
     "name": "stdout",
     "output_type": "stream",
     "text": [
      "tract_to_msa_md_income_pct\n"
     ]
    },
    {
     "data": {
      "image/png": "[encoded data removed]",
      "text/plain": [
       "<Figure size 432x288 with 1 Axes>"
      ]
     },
     "metadata": {
      "needs_background": "light"
     },
     "output_type": "display_data"
    },
    {
     "data": {
      "image/png": "[encoded data removed]",
      "text/plain": [
       "<Figure size 432x288 with 1 Axes>"
      ]
     },
     "metadata": {
      "needs_background": "light"
     },
     "output_type": "display_data"
    },
    {
     "name": "stdout",
     "output_type": "stream",
     "text": [
      "mean: 93.08399838073836 // 90.74740602434443\n",
      "max: 100.0 // 100.0\n",
      "min: 3.981 // 6.234\n",
      "median: 100.0 // 100.0\n"
     ]
    },
    {
     "data": {
      "image/png": "[encoded data removed]",
      "text/plain": [
       "<Figure size 432x288 with 1 Axes>"
      ]
     },
     "metadata": {
      "needs_background": "light"
     },
     "output_type": "display_data"
    },
    {
     "name": "stdout",
     "output_type": "stream",
     "text": [
      "ffiecmedian_family_income\n"
     ]
    },
    {
     "data": {
      "image/png": "[encoded data removed]",
      "text/plain": [
       "<Figure size 432x288 with 1 Axes>"
      ]
     },
     "metadata": {
      "needs_background": "light"
     },
     "output_type": "display_data"
    },
    {
     "data": {
      "image/png": "[encoded data removed]",
      "text/plain": [
       "<Figure size 432x288 with 1 Axes>"
      ]
     },
     "metadata": {
      "needs_background": "light"
     },
     "output_type": "display_data"
    },
    {
     "name": "stdout",
     "output_type": "stream",
     "text": [
      "mean: 70131.64631488039 // 66961.63955723825\n",
      "max: 125248.0 // 125172.0\n",
      "min: 17858.0 // 17862.0\n",
      "median: 68783.0 // 64509.0\n"
     ]
    },
    {
     "data": {
      "image/png": "[encoded data removed]",
      "text/plain": [
       "<Figure size 432x288 with 1 Axes>"
      ]
     },
     "metadata": {
      "needs_background": "light"
     },
     "output_type": "display_data"
    },
    {
     "name": "stdout",
     "output_type": "stream",
     "text": [
      "tract_family_income\n"
     ]
    },
    {
     "data": {
      "image/png": "[encoded data removed]",
      "text/plain": [
       "<Figure size 432x288 with 1 Axes>"
      ]
     },
     "metadata": {
      "needs_background": "light"
     },
     "output_type": "display_data"
    },
    {
     "data": {
      "image/png": "[encoded data removed]",
      "text/plain": [
       "<Figure size 432x288 with 1 Axes>"
      ]
     },
     "metadata": {
      "needs_background": "light"
     },
     "output_type": "display_data"
    },
    {
     "name": "stdout",
     "output_type": "stream",
     "text": [
      "mean: 65178.375182735515 // 60591.55637419373\n",
      "max: 125248.0 // 125172.0\n",
      "min: 2930.13543 // 4701.651\n",
      "median: 64117.159920000006 // 59554.02617\n"
     ]
    },
    {
     "data": {
      "image/png": "[encoded data removed]",
      "text/plain": [
       "<Figure size 432x288 with 1 Axes>"
      ]
     },
     "metadata": {
      "needs_background": "light"
     },
     "output_type": "display_data"
    },
    {
     "name": "stdout",
     "output_type": "stream",
     "text": [
      "number_of_owner-occupied_units\n"
     ]
    },
    {
     "data": {
      "image/png": "[encoded data removed]",
      "text/plain": [
       "<Figure size 432x288 with 1 Axes>"
      ]
     },
     "metadata": {
      "needs_background": "light"
     },
     "output_type": "display_data"
    },
    {
     "data": {
      "image/png": "[encoded data removed]",
      "text/plain": [
       "<Figure size 432x288 with 1 Axes>"
      ]
     },
     "metadata": {
      "needs_background": "light"
     },
     "output_type": "display_data"
    },
    {
     "name": "stdout",
     "output_type": "stream",
     "text": [
      "mean: 1452.5139520378696 // 1391.0468701727723\n",
      "max: 8771.0 // 8761.0\n",
      "min: 4.0 // 4.0\n",
      "median: 1349.0 // 1301.0\n"
     ]
    }
   ],
   "source": [
    "total_columns=['loan_type', 'property_type', 'loan_purpose', 'occupancy','loan_amount', 'preapproval', 'msa_md', 'state_code', 'county_code',\n",
    "       'applicant_ethnicity', 'applicant_race', 'applicant_sex','applicant_income', 'minority',\n",
    "       'ffiecmedian_family_income', 'tract_to_msa_md_income_pct',\n",
    "       'number_of_owner-occupied_units', 'number_of_1_to_4_family_units',\n",
    "       'lender', 'co_applicant']\n",
    "continuos_columns=['loan_amount','applicant_income','population', 'minority_population_pct',\n",
    "       'ffiecmedian_family_income', 'tract_to_msa_md_income_pct',\n",
    "       'number_of_owner-occupied_units', 'number_of_1_to_4_family_units']\n",
    "categorical_columns=['loan_type', 'property_type', 'loan_purpose', 'occupancy','preapproval', 'msa_md', 'state_code', 'county_code','applicant_ethnicity', 'applicant_race', 'applicant_sex','co_applicant', 'lender']\n",
    "accepted_train=train_data[train_data['accepted']==1]\n",
    "unaccepted_train=train_data[train_data['accepted']==0]\n",
    "print( 'loan_amount')\n",
    "accepted_train[  'loan_amount'].hist(bins=1000, alpha=0.5)\n",
    "unaccepted_train[  'loan_amount'].hist(bins=1000,color='red', alpha=0.5)\n",
    "\n",
    "plt.xlim((0,1000))\n",
    "plt.show()\n",
    "\n",
    "train_data.boxplot(column= 'loan_amount', by='accepted')\n",
    "\n",
    "plt.show()\n",
    "print(\"mean:\",accepted_train[  'loan_amount'].mean(),'//',unaccepted_train[ 'loan_amount'].mean())\n",
    "print(\"max:\",accepted_train[  'loan_amount'].max(),'//',unaccepted_train[  'loan_amount'].max())\n",
    "print(\"min:\",accepted_train[  'loan_amount'].min(),'//',unaccepted_train[  'loan_amount'].min())\n",
    "print(\"median:\",accepted_train[  'loan_amount'].median(),'//',unaccepted_train[  'loan_amount'].median())\n",
    "\n",
    "train_data[  'loan_amount'].hist(bins=1000, alpha=0.5)\n",
    "test_data[  'loan_amount'].hist(bins=1000,color='red', alpha=0.5)\n",
    "plt.xlim((0,1000))\n",
    "plt.show()\n",
    "\n",
    "\n",
    "print( 'applicant_income')\n",
    "accepted_train[ 'applicant_income'].hist(bins=1000, alpha=0.5)\n",
    "unaccepted_train[  'applicant_income'].hist(bins=1000,color='red', alpha=0.5)\n",
    "\n",
    "plt.xlim((0,800))\n",
    "plt.show()\n",
    "\n",
    "train_data.boxplot(column= 'applicant_income', by='accepted')\n",
    "\n",
    "plt.show()\n",
    "print(\"mean:\",accepted_train[ 'applicant_income'].mean(),'//',unaccepted_train[ 'applicant_income'].mean())\n",
    "print(\"max:\",accepted_train[  'applicant_income'].max(),'//',unaccepted_train[  'applicant_income'].max())\n",
    "print(\"min:\",accepted_train[  'applicant_income'].min(),'//',unaccepted_train['applicant_income'].min())\n",
    "print(\"median:\",accepted_train[ 'applicant_income'].median(),'//',unaccepted_train['applicant_income'].median())\n",
    "train_data[  'applicant_income'].hist(bins=1000, alpha=0.5)\n",
    "test_data[ 'applicant_income'].hist(bins=1000,color='red', alpha=0.5)\n",
    "plt.xlim((0,800))\n",
    "plt.show()\n",
    "\n",
    "print('population')\n",
    "accepted_train['population'].hist(bins=1000, alpha=0.5)\n",
    "unaccepted_train['population'].hist(bins=1000,color='red', alpha=0.5)\n",
    "\n",
    "plt.xlim((0,20000))\n",
    "plt.ylim((0,2000))\n",
    "plt.show()\n",
    "\n",
    "train_data.boxplot(column= 'population', by='accepted')\n",
    "\n",
    "plt.show()\n",
    "print(\"mean:\",accepted_train[ 'population'].mean(),'//',unaccepted_train['population'].mean())\n",
    "print(\"max:\",accepted_train['population'].max(),'//',unaccepted_train['population'].max())\n",
    "print(\"min:\",accepted_train['population'].min(),'//',unaccepted_train['population'].min())\n",
    "print(\"median:\",accepted_train['population'].median(),'//',unaccepted_train['population'].median())\n",
    "\n",
    "train_data['population'].hist(bins=1000, alpha=0.5)\n",
    "test_data['population'].hist(bins=1000,color='red', alpha=0.5)\n",
    "plt.xlim((0,20000))\n",
    "plt.ylim((0,4000))\n",
    "plt.show()\n",
    "\n",
    "print('minority')\n",
    "accepted_train['minority'].hist(bins=1000, alpha=0.5)\n",
    "unaccepted_train['minority'].hist(bins=1000,color='red', alpha=0.5)\n",
    "\n",
    "plt.xlim((0,15000))\n",
    "plt.ylim((0,4500))\n",
    "plt.show()\n",
    "\n",
    "train_data.boxplot(column='minority', by='accepted')\n",
    "\n",
    "plt.show()\n",
    "print(\"mean:\",accepted_train['minority'].mean(),'//',unaccepted_train['minority'].mean())\n",
    "print(\"max:\",accepted_train['minority'].max(),'//',unaccepted_train['minority'].max())\n",
    "print(\"min:\",accepted_train['minority'].min(),'//',unaccepted_train['minority'].min())\n",
    "print(\"median:\",accepted_train['minority'].median(),'//',unaccepted_train['minority'].median())\n",
    "\n",
    "train_data['minority'].hist(bins=1000, alpha=0.5)\n",
    "test_data['minority'].hist(bins=1000,color='red', alpha=0.5)\n",
    "plt.xlim((0,16000))\n",
    "plt.ylim((0,9000))\n",
    "plt.show()\n",
    "\n",
    "print('tract_to_msa_md_income_pct')\n",
    "accepted_train['tract_to_msa_md_income_pct'].hist(bins=1000, alpha=0.5)\n",
    "unaccepted_train['tract_to_msa_md_income_pct'].hist(bins=1000,color='red', alpha=0.5)\n",
    "\n",
    "plt.xlim((0,100))\n",
    "plt.ylim((0,400))\n",
    "plt.show()\n",
    "\n",
    "train_data.boxplot(column='tract_to_msa_md_income_pct', by='accepted')\n",
    "\n",
    "plt.show()\n",
    "print(\"mean:\",accepted_train['tract_to_msa_md_income_pct'].mean(),'//',unaccepted_train['tract_to_msa_md_income_pct'].mean())\n",
    "print(\"max:\",accepted_train['tract_to_msa_md_income_pct'].max(),'//',unaccepted_train['tract_to_msa_md_income_pct'].max())\n",
    "print(\"min:\",accepted_train['tract_to_msa_md_income_pct'].min(),'//',unaccepted_train['tract_to_msa_md_income_pct'].min())\n",
    "print(\"median:\",accepted_train['tract_to_msa_md_income_pct'].median(),'//',unaccepted_train['tract_to_msa_md_income_pct'].median())\n",
    "\n",
    "train_data['tract_to_msa_md_income_pct'].hist(bins=1000, alpha=0.5)\n",
    "test_data['tract_to_msa_md_income_pct'].hist(bins=1000,color='red', alpha=0.5)\n",
    "plt.xlim((0,100))\n",
    "plt.ylim((0,700))\n",
    "plt.show()\n",
    "\n",
    "print('ffiecmedian_family_income')\n",
    "accepted_train['ffiecmedian_family_income'].hist(bins=1000, alpha=0.5)\n",
    "unaccepted_train['ffiecmedian_family_income'].hist(bins=1000,color='red', alpha=0.5)\n",
    "\n",
    "plt.xlim((15000,130000))\n",
    "plt.ylim((0,1500))\n",
    "plt.show()\n",
    "\n",
    "train_data.boxplot(column='ffiecmedian_family_income', by='accepted')\n",
    "\n",
    "plt.show()\n",
    "print(\"mean:\",accepted_train['ffiecmedian_family_income'].mean(),'//',unaccepted_train['ffiecmedian_family_income'].mean())\n",
    "print(\"max:\",accepted_train['ffiecmedian_family_income'].max(),'//',unaccepted_train['ffiecmedian_family_income'].max())\n",
    "print(\"min:\",accepted_train['ffiecmedian_family_income'].min(),'//',unaccepted_train['ffiecmedian_family_income'].min())\n",
    "print(\"median:\",accepted_train['ffiecmedian_family_income'].median(),'//',unaccepted_train['ffiecmedian_family_income'].median())\n",
    "\n",
    "train_data['ffiecmedian_family_income'].hist(bins=1000, alpha=0.5)\n",
    "test_data['ffiecmedian_family_income'].hist(bins=1000,color='red', alpha=0.5)\n",
    "plt.xlim((15000,130000))\n",
    "plt.ylim((0,2500))\n",
    "plt.show()\n",
    "\n",
    "print('tract_family_income')\n",
    "accepted_train[ 'tract_family_income'].hist(bins=1000, alpha=0.5)\n",
    "unaccepted_train[ 'tract_family_income'].hist(bins=1000,color='red', alpha=0.5)\n",
    "\n",
    "plt.xlim((0,120000))\n",
    "plt.ylim((0,1700))\n",
    "plt.show()\n",
    "\n",
    "train_data.boxplot(column='tract_family_income', by='accepted')\n",
    "\n",
    "plt.show()\n",
    "print(\"mean:\",accepted_train['tract_family_income'].mean(),'//',unaccepted_train[ 'tract_family_income'].mean())\n",
    "print(\"max:\",accepted_train['tract_family_income'].max(),'//',unaccepted_train['tract_family_income'].max())\n",
    "print(\"min:\",accepted_train['tract_family_income'].min(),'//',unaccepted_train['tract_family_income'].min())\n",
    "print(\"median:\",accepted_train[ 'tract_family_income'].median(),'//',unaccepted_train['tract_family_income'].median())\n",
    "\n",
    "train_data['tract_family_income'].hist(bins=1000, alpha=0.5)\n",
    "test_data['tract_family_income'].hist(bins=1000,color='red', alpha=0.5)\n",
    "plt.xlim((0,120000))\n",
    "plt.ylim((0,3200))\n",
    "plt.show()\n",
    "\n",
    "print(\"number_of_owner-occupied_units\")\n",
    "accepted_train[ 'number_of_owner-occupied_units'].hist(bins=1000, alpha=0.5)\n",
    "unaccepted_train[ 'number_of_owner-occupied_units'].hist(bins=1000,color='red', alpha=0.5)\n",
    "\n",
    "plt.xlim((0,9000))\n",
    "plt.ylim((0,1700))\n",
    "plt.show()\n",
    "\n",
    "train_data.boxplot(column='number_of_owner-occupied_units', by='accepted')\n",
    "\n",
    "plt.show()\n",
    "print(\"mean:\",accepted_train[ 'number_of_owner-occupied_units'].mean(),'//',unaccepted_train[ 'number_of_owner-occupied_units'].mean())\n",
    "print(\"max:\",accepted_train[ 'number_of_owner-occupied_units'].max(),'//',unaccepted_train[ 'number_of_owner-occupied_units'].max())\n",
    "print(\"min:\",accepted_train[ 'number_of_owner-occupied_units'].min(),'//',unaccepted_train[ 'number_of_owner-occupied_units'].min())\n",
    "print(\"median:\",accepted_train[ 'number_of_owner-occupied_units'].median(),'//',unaccepted_train[ 'number_of_owner-occupied_units'].median())\n",
    "\n",
    "train_data['number_of_owner-occupied_units'].hist(bins=1000, alpha=0.5)\n",
    "test_data['number_of_owner-occupied_units'].hist(bins=1000,color='red', alpha=0.5)\n",
    "plt.xlim((0,9000))\n",
    "plt.ylim((0,3200))\n",
    "plt.show()\n",
    "\n",
    "print( 'number_of_1_to_4_family_units')\n",
    "accepted_train[  'number_of_1_to_4_family_units'].hist(bins=1000, alpha=0.5)\n",
    "unaccepted_train[  'number_of_1_to_4_family_units'].hist(bins=1000,color='red', alpha=0.5)\n",
    "\n",
    "plt.xlim((0,15000))\n",
    "plt.ylim((0,2200))\n",
    "plt.show()\n",
    "\n",
    "train_data.boxplot(column= 'number_of_1_to_4_family_units', by='accepted')\n",
    "\n",
    "plt.show()\n",
    "print(\"mean:\",accepted_train[  'number_of_1_to_4_family_units'].mean(),'//',unaccepted_train[ 'number_of_1_to_4_family_units'].mean())\n",
    "print(\"max:\",accepted_train[  'number_of_1_to_4_family_units'].max(),'//',unaccepted_train[  'number_of_1_to_4_family_units'].max())\n",
    "print(\"min:\",accepted_train[  'number_of_1_to_4_family_units'].min(),'//',unaccepted_train[  'number_of_1_to_4_family_units'].min())\n",
    "print(\"median:\",accepted_train[  'number_of_1_to_4_family_units'].median(),'//',unaccepted_train[  'number_of_1_to_4_family_units'].median())\n",
    "\n",
    "train_data['number_of_1_to_4_family_units'].hist(bins=1000, alpha=0.5)\n",
    "test_data['number_of_1_to_4_family_units'].hist(bins=1000,color='red', alpha=0.5)\n",
    "plt.xlim((0,9000))\n",
    "plt.ylim((0,4000))\n",
    "plt.show()\n",
    "\n",
    "train_combine=train_data\n",
    "train_combine['dummy'] = np.ones(shape = train_combine.shape[0])\n",
    "for col in categorical_columns:\n",
    "    counts = train_combine[['dummy', 'accepted', col]].groupby(['accepted', col], as_index = False).count()\n",
    "    temp = counts[counts['accepted'] == 0][[col, 'dummy']]\n",
    "    _ = plt.figure(figsize = (10,4))\n",
    "    plt.subplot(1, 2, 1)\n",
    "    temp = counts[counts['accepted'] == 0][[col, 'dummy']]\n",
    "    plt.bar(temp[col], temp.dummy)\n",
    "    plt.xticks(rotation=90)\n",
    "    plt.title('Counts for ' + col + '\\n unaccepted')\n",
    "    plt.subplot(1, 2, 2)\n",
    "    temp = counts[counts['accepted'] == 1][[col, 'dummy']]\n",
    "    plt.bar(temp[col], temp.dummy)\n",
    "    plt.title('Counts for ' + col + '\\n accepted')\n",
    "    plt.xticks(rotation=90)\n",
    "    plt.show()\n",
    "\n",
    "\n",
    "counts = train_combine[['dummy', 'accepted', 'lender']].groupby(['accepted','lender'], as_index = False).count()\n",
    "temp = counts[counts['accepted'] == 0][['lender', 'dummy']]\n",
    "_ = plt.figure(figsize = (10,4))\n",
    "plt.subplot(1, 2, 1)\n",
    "temp = counts[counts['accepted'] == 0][['lender', 'dummy']]\n",
    "plt.bar(temp['lender'], temp.dummy)\n",
    "plt.xticks(rotation=90)\n",
    "plt.ylim((0,1500))\n",
    "plt.title('Counts for ' + 'lender' + '\\n unaccepted')\n",
    "plt.subplot(1, 2, 2)\n",
    "temp = counts[counts['accepted'] == 1][['lender', 'dummy']]\n",
    "plt.bar(temp['lender'], temp.dummy)\n",
    "plt.title('Counts for ' + 'lender' + '\\n accepted')\n",
    "plt.xticks(rotation=90)\n",
    "plt.ylim((0,1500))\n",
    "plt.show()\n"
   ]
  },
  {
   "cell_type": "code",
   "execution_count": null,
   "metadata": {},
   "outputs": [],
   "source": [
    "# do log transformation\n",
    "train_data['loan_amount_log'] = np.log(train_data['loan_amount'])\n",
    "test_data['loan_amount_log'] = np.log(test_data['loan_amount'])\n",
    "train_data['applicant_income_log'] = np.log(train_data['applicant_income'])\n",
    "test_data['applicant_income_log'] = np.log(test_data['applicant_income'])\n",
    "train_data['population_log'] = np.log(train_data['population'])\n",
    "test_data['population_log'] = np.log(test_data['population'])\n",
    "train_data[ 'minority_log'] = np.log(train_data[ 'minority'])\n",
    "test_data['minority_log'] = np.log(test_data['minority'])\n",
    "train_data['tract_family_income_log'] = np.log(train_data['tract_family_income'])\n",
    "test_data['tract_family_income_log'] = np.log(test_data['tract_family_income'])\n",
    "train_data['number_of_owner-occupied_units_log'] = np.log(train_data['number_of_owner-occupied_units'])\n",
    "test_data['number_of_owner-occupied_units_log'] = np.log(test_data['number_of_owner-occupied_units'])\n",
    "train_data['number_of_1_to_4_family_units_log'] = np.log(train_data['number_of_1_to_4_family_units'])\n",
    "test_data['number_of_1_to_4_family_units_log'] = np.log(test_data['number_of_1_to_4_family_units'])"
   ]
  },
  {
   "cell_type": "code",
   "execution_count": null,
   "metadata": {},
   "outputs": [],
   "source": [
    "accepted_train=train_data[train_data['accepted']==1]\n",
    "unaccepted_train=train_data[train_data['accepted']==0]\n",
    "print( 'minority_log')\n",
    "accepted_train[  'county_accept_prob'].hist(bins=1000, alpha=0.5)\n",
    "unaccepted_train[  'county_accept_prob'].hist(bins=1000,color='red', alpha=0.5)\n",
    "plt.xlim((0,1))\n",
    "plt.ylim((0,100))\n",
    "\n",
    "\n",
    "\n",
    "plt.show()\n",
    "\n",
    "train_data.boxplot(column= 'tract_family_income', by='accepted')\n",
    "\n",
    "plt.show()\n",
    "print(\"mean:\",accepted_train[  'minority_log'].mean(),'//',unaccepted_train[ 'loan_amount_log'].mean())\n",
    "print(\"max:\",accepted_train[  'minority_log'].max(),'//',unaccepted_train[  'loan_amount_log'].max())\n",
    "print(\"min:\",accepted_train[  'loan_amount_log'].min(),'//',unaccepted_train[  'loan_amount_log'].min())\n",
    "print(\"median:\",accepted_train[  'loan_amount_log'].median(),'//',unaccepted_train[  'loan_amount_log'].median())\n",
    "\n",
    "train_data[  'county_accept_prob'].hist(bins=1000, alpha=0.5)\n",
    "test_data[  'county_accept_prob'].hist(bins=1000,color='red', alpha=0.5)\n",
    "plt.xlim((0,20))\n",
    "plt.show()"
   ]
  },
  {
   "cell_type": "code",
   "execution_count": null,
   "metadata": {},
   "outputs": [],
   "source": [
    "train_data=train_data.sort_values(by=['row_id'])\n",
    "print(train_data)\n",
    "print(test_data)"
   ]
  },
  {
   "cell_type": "code",
   "execution_count": null,
   "metadata": {},
   "outputs": [],
   "source": [
    "predictor_var =['loan_amount_log','applicant_income_log','minority_log','tract_family_income',  'loan_purpose',\n",
    "                'preapproval','applicant_race','county_accept_prob','lender_accept_prob']\n",
    "test_data['county_accept_prob']=test_data['county_accept_prob'].fillna(test_data['county_accept_prob'].median())\n",
    "test_data['lender_accept_prob']=test_data['lender_accept_prob'].fillna(test_data['lender_accept_prob'].median())\n",
    "for col in predictor_var:\n",
    "    print(test_data[test_data[col].isnull()])\n"
   ]
  },
  {
   "cell_type": "code",
   "execution_count": null,
   "metadata": {},
   "outputs": [],
   "source": []
  },
  {
   "cell_type": "code",
   "execution_count": null,
   "metadata": {},
   "outputs": [],
   "source": [
    "print(train_data.shape)"
   ]
  },
  {
   "cell_type": "code",
   "execution_count": null,
   "metadata": {},
   "outputs": [],
   "source": [
    "import pandas as pd\n",
    "from sklearn.model_selection import train_test_split\n",
    "from sklearn.metrics import mean_absolute_error\n",
    "from sklearn.ensemble import ExtraTreesClassifier\n",
    "from sklearn.ensemble import RandomForestClassifier\n",
    "from sklearn.pipeline import Pipeline\n",
    "from sklearn.externals import joblib\n",
    "from xgboost import XGBClassifier\n",
    "from vecstack import stacking\n",
    "from sklearn.metrics import accuracy_score \n",
    "from sklearn.neighbors import KNeighborsClassifier \n",
    "\n",
    "#KNeighborsClassifier(n_neighbors=5), \n",
    "#RandomForestClassifier(random_state=0, n_estimators=100, max_depth=3),     accuacy=0.71953000\n",
    "#XGBClassifier(random_state=0, learning_rate=0.1, n_estimators=100, max_depth=3)  score:0.7134\n",
    "outcome=train_labels['accepted']\n",
    "train_data_stacking=train_data.drop(columns=['accepted']).values\n",
    "test_data_stacking=test_data.values\n",
    "#X_train, X_test, y_train, y_test = train_test_split(train_data, outcome, test_size=0.2, random_state=0)\n",
    "models = [ KNeighborsClassifier(n_neighbors=5), \n",
    "          RandomForestClassifier(random_state=0, n_estimators=100, max_depth=3), \n",
    "          XGBClassifier(random_state=0, learning_rate=0.1, n_estimators=100, max_depth=3) ]\n",
    "\n",
    "\n",
    "S_train, S_test = stacking(models, \n",
    " train_data_stacking,outcome,test_data_stacking, \n",
    " regression=False, \n",
    " \n",
    " mode='oof_pred_bag', \n",
    " \n",
    " needs_proba=False,\n",
    " \n",
    " save_dir=None, \n",
    " \n",
    " metric=accuracy_score, \n",
    " \n",
    " n_folds=4, \n",
    " \n",
    " stratified=True,\n",
    " \n",
    " shuffle=True, \n",
    " \n",
    " random_state=0, \n",
    " \n",
    " verbose=2)\n",
    "\n",
    "model = XGBClassifier(random_state=0, learning_rate=0.1, n_estimators=100, max_depth=3) \n",
    "model = model.fit(S_train, outcome) \n",
    "y_pred = model.predict(S_test) \n",
    "#print('Final prediction score: [%.8f]' % accuracy_score(y_test, y_pred))\n",
    "\n",
    "\n",
    "\n",
    "# Final prediction score\n",
    "#print('Final prediction score: [%.8f]' % accuracy_score(y_test, y_pred))"
   ]
  },
  {
   "cell_type": "code",
   "execution_count": null,
   "metadata": {},
   "outputs": [],
   "source": [
    "vecstack1=pd.read_csv(\"vecstack1.csv\")\n",
    "vecstack1['accepted']=y_pred \n",
    "vecstack1.to_csv(\"vecstack1.csv\", encoding='utf-8', index=False)"
   ]
  },
  {
   "cell_type": "code",
   "execution_count": null,
   "metadata": {},
   "outputs": [],
   "source": [
    "import pandas as pd\n",
    "from sklearn.model_selection import train_test_split\n",
    "from sklearn.metrics import mean_absolute_error\n",
    "from sklearn.ensemble import ExtraTreesClassifier\n",
    "from sklearn.ensemble import RandomForestClassifier\n",
    "from sklearn.pipeline import Pipeline\n",
    "from sklearn.externals import joblib\n",
    "from xgboost import XGBClassifier\n",
    "from vecstack import stacking\n",
    "from sklearn.metrics import accuracy_score \n",
    "from sklearn.neighbors import KNeighborsClassifier \n",
    "\n",
    "# accuracy:0.72087600   score:0.7235 \n",
    "\n",
    "outcome=train_labels['accepted']\n",
    "train_data_stacking=train_data.drop(columns=['accepted']).values\n",
    "test_data_stacking=test_data.values\n",
    "#X_train, X_test, y_train, y_test = train_test_split(train_data, outcome, test_size=0.2, random_state=0)\n",
    "# 2*XGBC accuracy 0.7289540  score:0.7242\n",
    "models = [ \n",
    "          xgb.XGBClassifier(max_depth=10,n_estimators=100),\n",
    "         ]\n",
    "\n",
    "\n",
    "S_train, S_test = stacking(models, \n",
    " train_data_stacking,outcome,test_data_stacking, \n",
    " regression=False, \n",
    " \n",
    " mode='oof_pred_bag', \n",
    " \n",
    " needs_proba=False,\n",
    " \n",
    " save_dir=None, \n",
    " \n",
    " metric=accuracy_score, \n",
    " \n",
    " n_folds=4, \n",
    " \n",
    " stratified=True,\n",
    " \n",
    " shuffle=True, \n",
    " \n",
    " random_state=0, \n",
    " \n",
    " verbose=2)\n",
    "\n",
    "model =XGBClassifier(n_estimators=100)\n",
    "\n",
    "model = model.fit(S_train, outcome) \n",
    "y_pred2 = model.predict(S_test) \n",
    "#print('Final prediction score: [%.8f]' % accuracy_score(y_test, y_pred))\n",
    "\n",
    "vecstack2=pd.read_csv(\"vecstack1.csv\")\n",
    "vecstack2['accepted']=y_pred2 \n",
    "vecstack2.to_csv(\"vecstack1.csv\", encoding='utf-8', index=False)\n",
    "\n",
    "# Final prediction score\n",
    "#print('Final prediction score: [%.8f]' % accuracy_score(y_test, y_pred))"
   ]
  },
  {
   "cell_type": "code",
   "execution_count": null,
   "metadata": {},
   "outputs": [],
   "source": [
    "vecstack2=pd.read_csv(\"vecstack2.csv\")\n",
    "print(vecstack2['accepted'])"
   ]
  },
  {
   "cell_type": "code",
   "execution_count": null,
   "metadata": {},
   "outputs": [],
   "source": [
    "def classificationori_model(test_data,model,data,predictors, outcome,test_size):\n",
    "  #Fit the model:\n",
    "    print(\"test size:\",test_size)\n",
    "    labels=outcome\n",
    "    X_train, X_test, y_train, y_test = train_test_split(data, labels,test_size=test_size)\n",
    "    model.fit(X_train,y_train)\n",
    "   \n",
    "   #Make predictions on training set:\n",
    "    predictions = model.predict(X_test)\n",
    "    accuracy = metrics.accuracy_score(predictions,y_test)\n",
    "    print (\"Accuracy : \" + str(accuracy))\n",
    "    probabilities = model.predict_proba(X_test)\n",
    "    #plot_auc(y_test, probabilities)\n",
    "    print(roc_auc_score(y_test, probabilities[:,1]))\n",
    "    kf = KFold(n_splits=5)\n",
    "    print(kf.get_n_splits(data))\n",
    "    error = []\n",
    "    for train_index, test_index in kf.split(data):\n",
    "    # Filter training data\n",
    "        train_predictors = (data[predictors].iloc[train_index,:])\n",
    "    \n",
    "    # The target we're using to train the algorithm.\n",
    "        train_target = labels.iloc[train_index]\n",
    "    \n",
    "    # Training the algorithm using the predictors and target.\n",
    "        model.fit(train_predictors, train_target)\n",
    "    \n",
    "    #Record error from each cross-validation run\n",
    "        error.append(model.score(data[predictors].iloc[test_index,:], labels.iloc[test_index]))\n",
    "     \n",
    "    print (\"Cross-Validation Score :\" + str((np.mean(error))))\n",
    "    modelprediction_train=model.predict(data[predictors])\n",
    "    modelprediction_test=model.predict(test_data[predictors])\n",
    "    return(modelprediction_train,modelprediction_test)\n",
    "    "
   ]
  },
  {
   "cell_type": "code",
   "execution_count": null,
   "metadata": {},
   "outputs": [],
   "source": [
    "#'loan_amount', 'applicant_income','population', 'tract_family_income', \n",
    "#'loan_purpose','preaproval', 'county_accept_prob','lender_accept_prob',' co_applicant '\n",
    "#no log transformation: Accuracy : 0.501576  Cross-Validation Score :0.500228\n",
    "#log transformation: Accuracy : 0.706168     Cross-Validation Score :0.705464\n",
    "predictor =['loan_purpose','preapproval','applicant_ethnicity', 'applicant_race','state_accept_prob','county_accept_prob','co_applicant','lender_accept_prob','minority','loan_amount','applicant_income','tract_family_income']\n",
    "train_data_=train_data[predictor_var]\n",
    "test_data_=test_data[predictor_var]\n",
    "from sklearn.linear_model import LogisticRegression\n",
    "outcome=train_labels['accepted']\n",
    "model =LogisticRegression(random_state=0, solver='lbfgs',multi_class='ovr')\n",
    "#M1train_predict_list,M1test_predict_list=\n",
    "modelprediction_train1,modelprediction_test1=classificationori_model(test_data_,model,train_data_,predictor_var,outcome,.25)"
   ]
  },
  {
   "cell_type": "code",
   "execution_count": null,
   "metadata": {},
   "outputs": [],
   "source": [
    "#no log transformation: Accuracy :0.713888   Cross-Validation Score :0.713072\n",
    "\n",
    "# log   transformation: Accuracy :0.714688   Cross-Validation Score :0.716321999\n",
    "\n",
    "from sklearn.ensemble import RandomForestClassifier\n",
    "\n",
    "model =RandomForestClassifier(n_estimators=100)   \n",
    "modelprediction_train2,modelprediction_test2=classificationori_model(test_data_,model,train_data_,predictor_var,outcome,.25)\n"
   ]
  },
  {
   "cell_type": "code",
   "execution_count": null,
   "metadata": {},
   "outputs": [],
   "source": [
    "#no log transformation: Accuracy : 0.632712   Cross-Validation Score :0.635852\n",
    "# log   transformation: Accuracy : 0.636288  Cross-Validation Score :0.637178\n",
    "model = DecisionTreeClassifier()    \n",
    "modelprediction_train3,modelprediction_test3=classificationori_model(test_data_,model,train_data_,predictor_var,outcome,.25)\n"
   ]
  },
  {
   "cell_type": "code",
   "execution_count": null,
   "metadata": {},
   "outputs": [],
   "source": [
    "#no log transformation: Accuracy :0.575776   Cross-Validation Score :0.578375\n",
    "# log   transformation: Accuracy :0.67384    Cross-Validation Score :0.674888\n",
    "\n",
    "from sklearn.neighbors import KNeighborsClassifier\n",
    "\n",
    "model = KNeighborsClassifier()    \n",
    "modelprediction_train4,modelprediction_test4=classificationori_model(test_data_,model,train_data_,predictor_var,outcome,.25)\n"
   ]
  },
  {
   "cell_type": "code",
   "execution_count": null,
   "metadata": {},
   "outputs": [],
   "source": [
    "#no log transformation: Accuracy :0.7124   Cross-Validation Score :0.714114\n",
    "# log   transformation: Accuracy :0.715064 Cross-Validation Score :0.715426\n",
    "\n",
    "model=GradientBoostingClassifier(n_estimators=100, learning_rate=1, max_depth=1, random_state=0)\n",
    "modelprediction_train5,modelprediction_test5=classificationori_model(test_data_,model,train_data_,predictor_var,outcome,.25)\n"
   ]
  },
  {
   "cell_type": "code",
   "execution_count": null,
   "metadata": {},
   "outputs": [],
   "source": [
    "#no log transformation: Accuracy : 0.723368   Cross-Validation Score :0.723540\n",
    "# log   transformation: Accuracy : 0.725152   Cross-Validation Score :0.724838\n",
    "\n",
    "import xgboost as xgb\n",
    "model=xgb.XGBClassifier(max_depth=10,n_estimators=100)  \n",
    "modelprediction_train6,modelprediction_test6=classificationori_model(test_data_,model,train_data_,predictor_var,outcome,.25)\n"
   ]
  },
  {
   "cell_type": "code",
   "execution_count": null,
   "metadata": {},
   "outputs": [],
   "source": [
    "predictor =['loan_purpose','preapproval','applicant_ethnicity', 'applicant_race','state_accept_prob','county_accept_prob','co_applicant','lender_accept_prob','minority_log','loan_amount_log','applicant_income_log','tract_family_income_log']\n",
    "\n",
    "train_data_=train_data[predictor]\n",
    "test_data_=test_data[predictor]\n",
    "print('Logistic')\n",
    "model =LogisticRegression(random_state=0, solver='lbfgs',multi_class='ovr')\n",
    "modelprediction_train7,modelprediction_test7=classificationori_model(test_data_,model,train_data_,predictor,outcome,.25)\n",
    "print('RandomForest')\n",
    "\n",
    "model =RandomForestClassifier(n_estimators=100)   \n",
    "modelprediction_train8,modelprediction_test8=classificationori_model(test_data_,model,train_data_,predictor,outcome,.25)\n",
    "\n",
    "print('DecisionTree')\n",
    "\n",
    "model = DecisionTreeClassifier()    \n",
    "modelprediction_train9,modelprediction_test9=classificationori_model(test_data_,model,train_data_,predictor,outcome,.25)\n",
    "\n",
    "print('KNeighbors')\n",
    "\n",
    "model = KNeighborsClassifier()    \n",
    "modelprediction_train10,modelprediction_test10=classificationori_model(test_data_,model,train_data_,predictor,outcome,.25)\n",
    "\n",
    "print('GradientBoosting')\n",
    "model=GradientBoostingClassifier(n_estimators=100, learning_rate=1, max_depth=1, random_state=0)\n",
    "modelprediction_train11,modelprediction_test11=classificationori_model(test_data_,model,train_data_,predictor,outcome,.25)\n",
    "\n",
    "print('XGB')\n",
    "model=xgb.XGBClassifier(max_depth=10,n_estimators=100) \n",
    "modelprediction_train12,modelprediction_test12=classificationori_model(test_data_,model,train_data_,predictor,outcome,.25)\n",
    "\n",
    "\n",
    "\n",
    "\n",
    "\n"
   ]
  },
  {
   "cell_type": "code",
   "execution_count": null,
   "metadata": {},
   "outputs": [],
   "source": [
    "modeltrain=pd.DataFrame()\n",
    "modeltrain['m1']=modelprediction_train1\n",
    "modeltrain['m2']=modelprediction_train2\n",
    "modeltrain['m3']=modelprediction_train3\n",
    "modeltrain['m4']=modelprediction_train4\n",
    "modeltrain['m5']=modelprediction_train5\n",
    "modeltrain['m6']=modelprediction_train6\n",
    "modeltrain['m7']=modelprediction_train7\n",
    "modeltrain['m8']=modelprediction_train8\n",
    "modeltrain['m9']=modelprediction_train9\n",
    "modeltrain['m10']=modelprediction_train10\n",
    "modeltrain['m11']=modelprediction_train11\n",
    "modeltrain['m12']=modelprediction_train12\n",
    "modeltrain['m13']=modelprediction_train13\n",
    "modeltrain['m14']=modelprediction_train14\n",
    "modeltrain['m15']=modelprediction_train15\n",
    "modeltrain['m16']=modelprediction_train16\n",
    "modeltrain['m17']=modelprediction_train17\n",
    "modeltrain['m18']=modelprediction_train18\n",
    "modeltrain['m19']=modelprediction_train19\n",
    "modeltrain['m20']=modelprediction_train20\n",
    "modeltrain['m21']=modelprediction_train21\n",
    "modeltrain['m22']=modelprediction_train22\n",
    "modeltrain['m23']=modelprediction_train23\n",
    "modeltrain['m24']=modelprediction_train24\n",
    "\n",
    "\n",
    "modeltest=pd.DataFrame()\n",
    "modeltest['m1']=modelprediction_test1\n",
    "modeltest['m2']=modelprediction_test2\n",
    "modeltest['m3']=modelprediction_test3\n",
    "modeltest['m4']=modelprediction_test4\n",
    "modeltest['m5']=modelprediction_test5\n",
    "modeltest['m6']=modelprediction_test6\n",
    "modeltest['m7']=modelprediction_test7\n",
    "modeltest['m8']=modelprediction_test8\n",
    "modeltest['m9']=modelprediction_test9\n",
    "modeltest['m10']=modelprediction_test10\n",
    "modeltest['m11']=modelprediction_test11\n",
    "modeltest['m12']=modelprediction_test12\n",
    "modeltest['m13']=modelprediction_test13\n",
    "modeltest['m14']=modelprediction_test14\n",
    "modeltest['m15']=modelprediction_test15\n",
    "modeltest['m16']=modelprediction_test16\n",
    "modeltest['m17']=modelprediction_test17\n",
    "modeltest['m18']=modelprediction_test18\n",
    "modeltest['m19']=modelprediction_test19\n",
    "modeltest['m20']=modelprediction_test20\n",
    "modeltest['m21']=modelprediction_test21\n",
    "modeltest['m22']=modelprediction_test22\n",
    "modeltest['m23']=modelprediction_test23\n",
    "modeltest['m24']=modelprediction_test24"
   ]
  },
  {
   "cell_type": "code",
   "execution_count": null,
   "metadata": {},
   "outputs": [],
   "source": [
    "import pandas as pd\n",
    "\n",
    "v6test=pd.read_csv(\"modelV6test.csv\")\n",
    "v6test['m1']=modeltest['m1']\n",
    "v6test['m2']=modeltest['m2']\n",
    "v6test['m3']=modeltest['m3']\n",
    "v6test['m4']=modeltest['m4']\n",
    "v6test['m5']=modeltest['m5']\n",
    "v6test['m6']=modeltest['m6']\n",
    "v6test['m7']=modeltest['m7']\n",
    "v6test['m8']=modeltest['m8']\n",
    "v6test['m9']=modeltest['m9']\n",
    "v6test['m10']=modeltest['m10']\n",
    "v6test['m11']=modeltest['m11']\n",
    "v6test['m12']=modeltest['m12']\n",
    "v6test['m13']=modeltest['m13']\n",
    "v6test['m14']=modeltest['m14']\n",
    "v6test['m15']=modeltest['m15']\n",
    "v6test['m16']=modeltest['m16']\n",
    "v6test['m17']=modeltest['m17']\n",
    "v6test['m18']=modeltest['m18']\n",
    "v6test['m19']=modeltest['m19']\n",
    "v6test['m20']=modeltest['m20']\n",
    "v6test['m21']=modeltest['m21']\n",
    "v6test['m22']=modeltest['m22']\n",
    "v6test['m23']=modeltest['m23']\n",
    "v6test['m24']=modeltest['m24']\n",
    "\n",
    "\n",
    "v6test.to_csv(\"modelV6test.csv\", encoding='utf-8', index=False)"
   ]
  },
  {
   "cell_type": "code",
   "execution_count": null,
   "metadata": {},
   "outputs": [],
   "source": [
    "v6train=pd.read_csv(\"modelV6train.csv\")\n",
    "v6train['m1']=modeltrain['m1']\n",
    "v6train['m2']=modeltrain['m2']\n",
    "v6train['m3']=modeltrain['m3']\n",
    "v6train['m4']=modeltrain['m4']\n",
    "v6train['m5']=modeltrain['m5']\n",
    "v6train['m6']=modeltrain['m6']\n",
    "v6train['m7']=modeltrain['m7']\n",
    "v6train['m8']=modeltrain['m8']\n",
    "v6train['m9']=modeltrain['m9']\n",
    "v6train['m10']=modeltrain['m10']\n",
    "v6train['m11']=modeltrain['m11']\n",
    "v6train['m12']=modeltrain['m12']\n",
    "v6train['m13']=modeltrain['m13']\n",
    "v6train['m14']=modeltrain['m14']\n",
    "v6train['m15']=modeltrain['m15']\n",
    "v6train['m16']=modeltrain['m16']\n",
    "v6train['m17']=modeltrain['m17']\n",
    "v6train['m18']=modeltrain['m18']\n",
    "v6train['m19']=modeltrain['m19']\n",
    "v6train['m20']=modeltrain['m20']\n",
    "v6train['m21']=modeltrain['m21']\n",
    "v6train['m22']=modeltrain['m22']\n",
    "v6train['m23']=modeltrain['m23']\n",
    "v6train['m24']=modeltrain['m24']\n",
    "\n",
    "\n",
    "v6train.to_csv(\"modelV6train.csv\", encoding='utf-8', index=False)"
   ]
  },
  {
   "cell_type": "code",
   "execution_count": null,
   "metadata": {},
   "outputs": [],
   "source": [
    "v6train=pd.read_csv(\"modelV6train.csv\")\n",
    "v6test=pd.read_csv(\"modelV6test.csv\")\n",
    "modeltrain=v6train\n",
    "modeltest=v6test\n"
   ]
  },
  {
   "cell_type": "code",
   "execution_count": null,
   "metadata": {},
   "outputs": [],
   "source": [
    "#'m14','m17','m18','m19','m21','m22'Accuracy : 0.944464  Cross-Validation Score :0.9270479999999999 AUC: 0.9597439936392631\n",
    "train_labels=pd.read_csv(\"train_labels.csv\")\n",
    "\n",
    "predictor=['m21','m24','m24']\n",
    "train_data_2=modeltrain[predictor]\n",
    "test_data_2=modeltest[predictor]\n",
    "\n",
    "outcome=train_labels['accepted']\n",
    "model=RandomForestClassifier(n_estimators=100)\n",
    "\n",
    "X_train, X_test, y_train, y_test = train_test_split(train_data_2, outcome,test_size=.25)\n",
    "model.fit(X_train,y_train)\n",
    "predictions = model.predict(X_test)\n",
    "accuracy = metrics.accuracy_score(predictions,y_test)\n",
    "print (\"Accuracy : \" + str(accuracy))\n",
    "\n",
    "kf = KFold(n_splits=5)\n",
    "error = []\n",
    "for train_index, test_index in kf.split(train_data_2):\n",
    "    # Filter training data\n",
    "    train_predictors = (train_data_2.iloc[train_index,:])\n",
    "    \n",
    "    # The target we're using to train the algorithm.\n",
    "    train_target = outcome.iloc[train_index]\n",
    "    \n",
    "    # Training the algorithm using the predictors and target.\n",
    "    model.fit(train_predictors, train_target)\n",
    "    \n",
    "    #Record error from each cross-validation run\n",
    "    error.append(model.score(train_data_2.iloc[test_index,:], outcome.iloc[test_index]))\n",
    "print (\"Cross-Validation Score :\" + str((np.mean(error))))\n",
    "\n",
    "probabilities = model.predict_proba(X_test)\n",
    "    #plot_auc(y_test, probabilities)\n",
    "print(\"AUC:\",roc_auc_score(y_test, probabilities[:,1]))\n",
    "finaloutput=model.predict(test_data_2)\n",
    "print(finaloutput)"
   ]
  },
  {
   "cell_type": "code",
   "execution_count": null,
   "metadata": {},
   "outputs": [],
   "source": [
    "#Accuracy : 0.941952  Cross-Validation Score :0.9415479999               m1~m12\n",
    "#Accuracy : 0.941792  Cross-Validation Score :0.9420379999999999  SCORE  0.7062 'm8','m10','m11','m12'\n",
    "#Accuracy : 0.736768  Cross-Validation Score :0.7374280000000001  SCORE  0.7166  'm11','m12'\n",
    "#Accuracy : 0.760928  Cross-Validation Score :0.758638            SCORE  0.6432 'm1','m5','m4','m10','m12'\n",
    "#Accuracy : 0.944008  Cross-Validation Score :0.9272179999999999                 m1~m24\n",
    "#Accuracy : 0.741272  Cross-Validation Score :0.741466                            m7m24  \n",
    "#Accuracy : 0.9438    Cross-Validation Score :0.9270419999999999                'm19','m20','m21','m22','m23','m24'\n",
    "#Accuracy : 0.742472  Cross-Validation Score :0.741466            SCORE  0.7190  'm23','m24'4/17v1\n",
    "#Accuracy : 0.76308   Cross-Validation Score :0.763354                'm22','m23','m24'  4/17 v2?\n",
    "predictor=['m23','m24']\n",
    "train_data_2=modeltrain[predictor]\n",
    "test_data_2=modeltest[predictor]\n",
    "\n",
    "outcome=train_labels['accepted']\n",
    "model=xgb.XGBClassifier(max_depth=5,n_estimators=100) \n",
    "\n",
    "X_train, X_test, y_train, y_test = train_test_split(train_data_2, outcome,test_size=.25)\n",
    "model.fit(X_train,y_train)\n",
    "predictions = model.predict(X_test)\n",
    "accuracy = metrics.accuracy_score(predictions,y_test)\n",
    "print (\"Accuracy : \" + str(accuracy))\n",
    "\n",
    "kf = KFold(n_splits=5)\n",
    "error = []\n",
    "for train_index, test_index in kf.split(train_data_2):\n",
    "    # Filter training data\n",
    "    train_predictors = (train_data_2.iloc[train_index,:])\n",
    "    \n",
    "    # The target we're using to train the algorithm.\n",
    "    train_target = outcome.iloc[train_index]\n",
    "    \n",
    "    # Training the algorithm using the predictors and target.\n",
    "    model.fit(train_predictors, train_target)\n",
    "    \n",
    "    #Record error from each cross-validation run\n",
    "    error.append(model.score(train_data_2.iloc[test_index,:], outcome.iloc[test_index]))\n",
    "print (\"Cross-Validation Score :\" + str((np.mean(error))))\n",
    "\n",
    "probabilities = model.predict_proba(X_test)\n",
    "    #plot_auc(y_test, probabilities)\n",
    "print(\"AUC:\",roc_auc_score(y_test, probabilities[:,1]))\n",
    "finaloutput=model.predict(test_data_2)\n",
    "print(finaloutput)"
   ]
  },
  {
   "cell_type": "markdown",
   "metadata": {},
   "source": [
    "Stacking without 正規化\n"
   ]
  },
  {
   "cell_type": "code",
   "execution_count": null,
   "metadata": {},
   "outputs": [],
   "source": [
    "final = pd.read_csv(\"submission0417 v1.csv\")\n",
    "final['accepted']=finaloutput\n",
    "final.to_csv(\"submission0417 v1.csv\", encoding='utf-8', index=False)"
   ]
  },
  {
   "cell_type": "markdown",
   "metadata": {},
   "source": [
    "正規化\n",
    "Logistic          Accuracy : 0.702984          Cross-Validation Score :0.70153\n",
    "RandomForest      Accuracy : 0.717216          Cross-Validation Score :0.716784\n",
    "DecisionTree      Accuracy : 0.635608          Cross-Validation Score :0.637124\n",
    "KNeighbors        Accuracy : 0.678432          Cross-Validation Score :0.678516"
   ]
  },
  {
   "cell_type": "code",
   "execution_count": null,
   "metadata": {},
   "outputs": [],
   "source": [
    "from sklearn import preprocessing \n",
    "def classification_nor_model(test_data,model,data,predictors, outcome,test_size):\n",
    "  #Fit the model:\n",
    "    data = preprocessing.scale(data)\n",
    "    test_data = preprocessing.scale(test_data)\n",
    "\n",
    "    print(\"test size:\",test_size)\n",
    "    labels=outcome\n",
    "    X_train, X_test, y_train, y_test = train_test_split(data, labels,test_size=test_size)\n",
    "    model.fit(X_train,y_train)\n",
    "   \n",
    "   #Make predictions on training set:\n",
    "    predictions = model.predict(X_test)\n",
    "    accuracy = metrics.accuracy_score(predictions,y_test)\n",
    "    print (\"Accuracy : \" + str(accuracy))\n",
    "    probabilities = model.predict_proba(X_test)\n",
    "    #plot_auc(y_test, probabilities)\n",
    "    print(roc_auc_score(y_test, probabilities[:,1]))\n",
    "    kf = KFold(n_splits=5)\n",
    "    print(kf.get_n_splits(data))\n",
    "    error = []\n",
    "    for train_index, test_index in kf.split(data):\n",
    "    # Filter training data\n",
    "        train_predictors = (data[train_index])\n",
    "    \n",
    "    # The target we're using to train the algorithm.\n",
    "        train_target = labels.iloc[train_index]\n",
    "    \n",
    "    # Training the algorithm using the predictors and target.\n",
    "        model.fit(train_predictors, train_target)\n",
    "    \n",
    "    #Record error from each cross-validation run\n",
    "        error.append(model.score(data[test_index], labels.iloc[test_index]))\n",
    "     \n",
    "    print (\"Cross-Validation Score :\" + str((np.mean(error))))\n",
    "    modelprediction_train=model.predict(data)\n",
    "    modelprediction_test=model.predict(test_data)\n",
    "    return(modelprediction_train,modelprediction_test)\n",
    "    "
   ]
  },
  {
   "cell_type": "code",
   "execution_count": null,
   "metadata": {},
   "outputs": [],
   "source": [
    "predictor =['loan_purpose','preapproval','applicant_ethnicity', 'applicant_race','state_accept_prob','county_accept_prob','co_applicant','lender_accept_prob','minority','loan_amount','applicant_income','tract_family_income']\n",
    "\n",
    "\n",
    "train_data_nor=train_data[predictor]\n",
    "test_data_nor=test_data[predictor]\n",
    "print('Logistic')\n",
    "model =LogisticRegression(random_state=0, solver='lbfgs',multi_class='ovr')\n",
    "modelprediction_train13,modelprediction_test13=classification_nor_model(test_data_nor,model,train_data_nor,predictor,outcome,.25)\n",
    "print('RandomForest')\n",
    "model =RandomForestClassifier(n_estimators=100)   \n",
    "modelprediction_train14,modelprediction_test14=classification_nor_model(test_data_nor,model,train_data_nor,predictor,outcome,.25)\n",
    "print('DecisionTree')\n",
    "\n",
    "model = DecisionTreeClassifier()    \n",
    "modelprediction_train15,modelprediction_test15=classification_nor_model(test_data_nor,model,train_data_nor,predictor,outcome,.25)\n",
    "print('KNeighbors')\n",
    "\n",
    "model = KNeighborsClassifier()    \n",
    "modelprediction_train16,modelprediction_test16=classification_nor_model(test_data_nor,model,train_data_nor,predictor,outcome,.25)\n",
    "print('GradientBoosting')\n",
    "model=GradientBoostingClassifier(n_estimators=100, learning_rate=1, max_depth=1, random_state=0)\n",
    "modelprediction_train17,modelprediction_test17=classification_nor_model(test_data_nor,model,train_data_nor,predictor,outcome,.25)\n",
    "\n",
    "\n",
    "print('XGB')\n",
    "model=xgb.XGBClassifier(max_depth=10,n_estimators=100) \n",
    "modelprediction_train18,modelprediction_test18=classification_nor_model(test_data_,model,train_data_,predictor,outcome,.25)"
   ]
  },
  {
   "cell_type": "code",
   "execution_count": null,
   "metadata": {
    "scrolled": true
   },
   "outputs": [],
   "source": [
    "predictor =['loan_purpose','preapproval','applicant_ethnicity', 'applicant_race','state_accept_prob','county_accept_prob','co_applicant','lender_accept_prob','minority_log','loan_amount_log','applicant_income_log','tract_family_income_log']\n",
    "\n",
    "\n",
    "train_data_nor=train_data[predictor]\n",
    "test_data_nor=test_data[predictor]\n",
    "print('Logistic')\n",
    "model =LogisticRegression(random_state=0, solver='lbfgs',multi_class='ovr')\n",
    "modelprediction_train19,modelprediction_test19=classification_nor_model(test_data_nor,model,train_data_nor,predictor,outcome,.25)\n",
    "print('RandomForest')\n",
    "model =RandomForestClassifier(n_estimators=100)   \n",
    "modelprediction_train20,modelprediction_test20=classification_nor_model(test_data_nor,model,train_data_nor,predictor,outcome,.25)\n",
    "print('DecisionTree')\n",
    "\n",
    "model = DecisionTreeClassifier()    \n",
    "modelprediction_train21,modelprediction_test21=classification_nor_model(test_data_nor,model,train_data_nor,predictor,outcome,.25)\n",
    "print('KNeighbors')\n",
    "\n",
    "model = KNeighborsClassifier()    \n",
    "modelprediction_train22,modelprediction_test22=classification_nor_model(test_data_nor,model,train_data_nor,predictor,outcome,.25)\n",
    "print('GradientBoosting')\n",
    "model=GradientBoostingClassifier(n_estimators=100, learning_rate=1, max_depth=1, random_state=0)\n",
    "modelprediction_train23,modelprediction_test23=classification_nor_model(test_data_nor,model,train_data_nor,predictor,outcome,.25)\n",
    "print('XGB')\n",
    "model=xgb.XGBClassifier(max_depth=10,n_estimators=100) \n",
    "modelprediction_train24,modelprediction_test24=classification_nor_model(test_data_,model,train_data_,predictor,outcome,.25)"
   ]
  },
  {
   "cell_type": "code",
   "execution_count": null,
   "metadata": {},
   "outputs": [],
   "source": []
  },
  {
   "cell_type": "code",
   "execution_count": null,
   "metadata": {},
   "outputs": [],
   "source": []
  }
 ],
 "metadata": {
  "kernelspec": {
   "display_name": "Python 3",
   "language": "python",
   "name": "python3"
  },
  "language_info": {
   "codemirror_mode": {
    "name": "ipython",
    "version": 3
   },
   "file_extension": ".py",
   "mimetype": "text/x-python",
   "name": "python",
   "nbconvert_exporter": "python",
   "pygments_lexer": "ipython3",
   "version": "3.6.8"
  }
 },
 "nbformat": 4,
 "nbformat_minor": 2
}
